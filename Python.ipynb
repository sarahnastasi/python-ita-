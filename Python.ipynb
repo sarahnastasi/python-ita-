{
  "nbformat": 4,
  "nbformat_minor": 0,
  "metadata": {
    "colab": {
      "provenance": [],
      "authorship_tag": "ABX9TyND7vcm1rxcnlDSpOjzoVfS",
      "include_colab_link": true
    },
    "kernelspec": {
      "name": "python3",
      "display_name": "Python 3"
    },
    "language_info": {
      "name": "python"
    }
  },
  "cells": [
    {
      "cell_type": "markdown",
      "metadata": {
        "id": "view-in-github",
        "colab_type": "text"
      },
      "source": [
        "<a href=\"https://colab.research.google.com/github/sarahnastasi/python-ita-/blob/main/Python.ipynb\" target=\"_parent\"><img src=\"https://colab.research.google.com/assets/colab-badge.svg\" alt=\"Open In Colab\"/></a>"
      ]
    },
    {
      "cell_type": "markdown",
      "source": [
        "# Python - Introduzione ai fondamentali"
      ],
      "metadata": {
        "id": "CE5We1dBXwkg"
      }
    },
    {
      "cell_type": "markdown",
      "source": [
        "## **Come mai Python?**\n",
        "Python è un linguaggio semplice, intuitivo e versatile al tempo stesso. È un linguaggio interpretato ed è ampiamente usato per la Data Science e il Machine Learning. Inoltre è anche uno dei linguaggi più richiesti nel mondo del lavoro ed è perfetto per il trattamento dei dati e la Statistica. *Last but not least*, è distribuito con licenza Open Source."
      ],
      "metadata": {
        "id": "JVbv8467KFpu"
      }
    },
    {
      "cell_type": "markdown",
      "source": [
        "python.org dice del suo linguaggio: \"*Python è un linguaggio di programmazione potente e facile da imparare. Dispone di efficienti strutture dati di alto livello e di un approccio semplice ma efficace alla programmazione orientata agli oggetti. L'elegante sintassi e la digitazione dinamica di Python, insieme alla sua natura interpretata, lo rendono un linguaggio ideale per lo scripting e lo sviluppo rapido di applicazioni in molte aree sulla maggior parte delle piattaforme.*\""
      ],
      "metadata": {
        "id": "Np0pLSGKVut8"
      }
    },
    {
      "cell_type": "code",
      "source": [
        "import this\n",
        "# Stampa le 19 guideline per scrivere codice in Python che sono chiamate \"Zen of Python\".\n",
        "# È un easter egg dell'interpreter di Python."
      ],
      "metadata": {
        "colab": {
          "base_uri": "https://localhost:8080/"
        },
        "id": "SDshD_P246uu",
        "outputId": "89d46773-9069-4a9e-9157-a5c2b086a186"
      },
      "execution_count": null,
      "outputs": [
        {
          "output_type": "stream",
          "name": "stdout",
          "text": [
            "The Zen of Python, by Tim Peters\n",
            "\n",
            "Beautiful is better than ugly.\n",
            "Explicit is better than implicit.\n",
            "Simple is better than complex.\n",
            "Complex is better than complicated.\n",
            "Flat is better than nested.\n",
            "Sparse is better than dense.\n",
            "Readability counts.\n",
            "Special cases aren't special enough to break the rules.\n",
            "Although practicality beats purity.\n",
            "Errors should never pass silently.\n",
            "Unless explicitly silenced.\n",
            "In the face of ambiguity, refuse the temptation to guess.\n",
            "There should be one-- and preferably only one --obvious way to do it.\n",
            "Although that way may not be obvious at first unless you're Dutch.\n",
            "Now is better than never.\n",
            "Although never is often better than *right* now.\n",
            "If the implementation is hard to explain, it's a bad idea.\n",
            "If the implementation is easy to explain, it may be a good idea.\n",
            "Namespaces are one honking great idea -- let's do more of those!\n"
          ]
        }
      ]
    },
    {
      "cell_type": "markdown",
      "source": [
        "Per approfondire visita i seguenti siti:\\\n",
        "https://docs.python.org/3/library/stdtypes.html tipi standard di Python\\\n",
        "https://docs.python.org/3/tutorial/index.html tutorial di Python\\\n",
        "https://docs.python.org/3/library/index.html#library-index standard library di Python \\\n",
        "https://pandas.pydata.org/docs/getting_started/intro_tutorials/index.html tutorial di pandas"
      ],
      "metadata": {
        "id": "jwJXJEHuUzSu"
      }
    },
    {
      "cell_type": "markdown",
      "source": [
        "Per approfondire sullo stile di coding: https://docs.python.org/3/tutorial/controlflow.html#intermezzo-coding-style"
      ],
      "metadata": {
        "id": "JILTrbV10p90"
      }
    },
    {
      "cell_type": "markdown",
      "source": [
        "## **Ma ora facciamo sul serio!**\n",
        "partiamo col capire quale sia la versione di Python che stiamo utilizzando. Anche se spesso c'è poca differenza tra le singole versioni, è sempre bene tenersi aggiornati!"
      ],
      "metadata": {
        "id": "w7inALGnLfVE"
      }
    },
    {
      "cell_type": "code",
      "source": [
        "!python3 --version"
      ],
      "metadata": {
        "colab": {
          "base_uri": "https://localhost:8080/"
        },
        "id": "gXBD5xV0Jc34",
        "outputId": "a342bf2e-2c38-41b8-a3c1-b6c092f2e7cd"
      },
      "execution_count": null,
      "outputs": [
        {
          "output_type": "stream",
          "name": "stdout",
          "text": [
            "Python 3.10.12\n"
          ]
        }
      ]
    },
    {
      "cell_type": "markdown",
      "source": [
        "### **Commenti**\n",
        "Ancora prima di iniziare a programmare, di solito, ci chiediamo come fare a commentare il nostro codice. Il consiglio di Python è di non mettere troppi commenti e che essi non siano troppo lunghi perchè il codice deve essere talmente pulito e organizzato da potersi quasi commentare da solo. Comunque vediamo come scrivere i nostri tanto amati commenti:"
      ],
      "metadata": {
        "id": "BirFPNeXd_Ti"
      }
    },
    {
      "cell_type": "code",
      "source": [
        "# Commento fino a fine riga\n",
        "# Python non prevede commenti lunghi più di una riga, anche se..."
      ],
      "metadata": {
        "id": "0YtXiuj-cJqN"
      },
      "execution_count": null,
      "outputs": []
    },
    {
      "cell_type": "markdown",
      "source": [
        "Guido van Russum, il padre di Python, è d'accordo sull'uso delle stringhe multilinea come commento: https://twitter.com/gvanrossum/status/112670605505077248."
      ],
      "metadata": {
        "id": "j4oFKdxu796h"
      }
    },
    {
      "cell_type": "code",
      "source": [
        "'''\\\n",
        "Questa è una stringa multilinea ed è anche utilizzabile come un commento.\n",
        "Questa condotta è permessa perchè le stringhe tra tre virgolette \\\n",
        "(singole, come in questo caso, o doppie) non generano codice a runtime.\\\n",
        "'''"
      ],
      "metadata": {
        "colab": {
          "base_uri": "https://localhost:8080/",
          "height": 54
        },
        "id": "D1sl1-GG8VOE",
        "outputId": "1501c8e0-c43b-4f4f-cf4f-4bd1683b2043"
      },
      "execution_count": null,
      "outputs": [
        {
          "output_type": "execute_result",
          "data": {
            "text/plain": [
              "'Questa è una stringa multilinea ed è anche utilizzabile come un commento.\\nQuesta condotta è permessa perchè le stringhe tra tre virgolette (singole, come in questo caso, o doppie) non generano codice a runtime.'"
            ],
            "application/vnd.google.colaboratory.intrinsic+json": {
              "type": "string"
            }
          },
          "metadata": {},
          "execution_count": 4
        }
      ]
    },
    {
      "cell_type": "markdown",
      "source": [
        "###**L'imprescindibile \"Hello World!\"**\n",
        "è arrivato il momento di scrivere il nostro primo programma in Python."
      ],
      "metadata": {
        "id": "Zgmol3OOJuQA"
      }
    },
    {
      "cell_type": "code",
      "source": [
        "# Per stampare il nostro Hello World non ci serve altro che utilizzare la funzione print\n",
        "# La funzione print prende in argomento una stringa e stampa una stringa.\n",
        "\n",
        "# Inoltre in Python non bisogna terminare la riga con il ;\n",
        "#       (lo si può usare per scrivere più istruzioni in una sola riga, ma non è best practice)\n",
        "#   è invece molto importante l'indentazione: provare per credere\n",
        "\n",
        "print('Hello World!')\n",
        "#     print('Hello World!')"
      ],
      "metadata": {
        "colab": {
          "base_uri": "https://localhost:8080/"
        },
        "id": "MWIWp47mJssP",
        "outputId": "a067e317-8a86-4fc5-cdac-634367d9ff70"
      },
      "execution_count": null,
      "outputs": [
        {
          "output_type": "stream",
          "name": "stdout",
          "text": [
            "Hello World!\n"
          ]
        }
      ]
    },
    {
      "cell_type": "code",
      "source": [
        "nome = input()\n",
        "print('Hello', nome)"
      ],
      "metadata": {
        "colab": {
          "base_uri": "https://localhost:8080/"
        },
        "id": "jP-bujBzg0Tw",
        "outputId": "f5bd5b65-9623-4325-d7a8-69c7ac376703"
      },
      "execution_count": null,
      "outputs": [
        {
          "output_type": "stream",
          "name": "stdout",
          "text": [
            "Mario\n",
            "Hello Mario\n"
          ]
        }
      ]
    },
    {
      "cell_type": "markdown",
      "source": [
        "Diciamo ancora qualcosa sulla print."
      ],
      "metadata": {
        "id": "TSdbPL6fekWO"
      }
    },
    {
      "cell_type": "code",
      "source": [
        "print('Ciao, sono Mario Rossi!', end = ' ') # il parametro end accoda la stringa specificata al testo e non va a capo\n",
        "\n",
        "# Per continuare un'istruzione sulla riga successiva bisogna introdurre un \"\\\" a fine riga\n",
        "print('Sono nato il 06', '06', '2006', \\\n",
        "      sep = '-', end = ' ')                     # il parametro sep separa le stringhe del testo con il carattere specificato\n",
        "\n",
        "print('e sono uno', 'studente modello')         # inserisce automaticamente uno spazio se sep non è specificato"
      ],
      "metadata": {
        "colab": {
          "base_uri": "https://localhost:8080/"
        },
        "id": "IqQ4erW9YrS6",
        "outputId": "0888a3e2-4662-4dd4-99b2-e6e8ec07f45d"
      },
      "execution_count": null,
      "outputs": [
        {
          "output_type": "stream",
          "name": "stdout",
          "text": [
            "Ciao, sono Mario Rossi! Sono nato il 06-06-2006 e sono uno studente modello\n"
          ]
        }
      ]
    },
    {
      "cell_type": "code",
      "source": [
        "print('Stringa 1\\nStringa 2')"
      ],
      "metadata": {
        "colab": {
          "base_uri": "https://localhost:8080/"
        },
        "id": "VkzJdTquRdSB",
        "outputId": "9bc44a75-4e94-49f9-804e-eefdbbe33b2e"
      },
      "execution_count": null,
      "outputs": [
        {
          "output_type": "stream",
          "name": "stdout",
          "text": [
            "Stringa 1\n",
            "Stringa 2\n"
          ]
        }
      ]
    },
    {
      "cell_type": "markdown",
      "source": [
        "###**Stringhe**\n",
        "https://docs.python.org/3/library/stdtypes.html#text-sequence-type-str"
      ],
      "metadata": {
        "id": "RO4PAXe5NQBG"
      }
    },
    {
      "cell_type": "code",
      "source": [
        "# In Python le stringhe possono essere racchiuse tra:\n",
        "#     1. virgolette singole: 'testo'\n",
        "#     2. doppie virgolette: \"testo\"\n",
        "#     3. o tre virgolette singole: '''testo'''  -> usato per stringhe su più righe\n",
        "\n",
        "# Ogni spazio vuoto lasciato in mezzo, all'inizio o alla fine verrà mantenuto\n",
        "\n",
        "print( \"Hello    World!\" )\n",
        "\n",
        "print( '''Hello\n",
        "World!''' )\n",
        "print( '''Hello \\\n",
        "World!''' )"
      ],
      "metadata": {
        "colab": {
          "base_uri": "https://localhost:8080/"
        },
        "id": "8kf8IdmhMof8",
        "outputId": "468a1f7d-9b7c-4f4f-fdd7-27c60b5558f5"
      },
      "execution_count": null,
      "outputs": [
        {
          "output_type": "stream",
          "name": "stdout",
          "text": [
            "Hello    World!\n",
            "Hello\n",
            "World!\n",
            "Hello World!\n"
          ]
        }
      ]
    },
    {
      "cell_type": "markdown",
      "source": [
        "####**Indexing e Slicing**\n",
        "Indicizzare le stringhe: l'*indexing*"
      ],
      "metadata": {
        "id": "x2pUtfVCaEUQ"
      }
    },
    {
      "cell_type": "code",
      "source": [
        "# Non esiste un tipo Char, quindi i caratteri sono semplicemente stringhe di lunghezza 1.\n",
        "# Indicizzo i caratteri in una stringa con le parentesi quadrate e l'indice appropriato.\n",
        "\n",
        "'Mario'[0] == 'M'"
      ],
      "metadata": {
        "colab": {
          "base_uri": "https://localhost:8080/"
        },
        "id": "qWEa3y6Ua37N",
        "outputId": "af680dda-dfac-47d9-ce5f-be177397c5a9"
      },
      "execution_count": null,
      "outputs": [
        {
          "output_type": "execute_result",
          "data": {
            "text/plain": [
              "True"
            ]
          },
          "metadata": {},
          "execution_count": 10
        }
      ]
    },
    {
      "cell_type": "code",
      "source": [
        "# 'Mario'[0] = 'G'    # non si possono modificare le stringhe: sono immutabili"
      ],
      "metadata": {
        "id": "wmGcH1TNZNrt"
      },
      "execution_count": null,
      "outputs": []
    },
    {
      "cell_type": "markdown",
      "source": [
        "È possibile anche trattare le stringhe in modo più complesso, attraverso il cosiddetto *slicing*. Partiamo da questa immagine esplicativa e facciamo qualche esempio.\n",
        "```\n",
        " +---+---+---+---+---+---+\n",
        " | P | y | t | h | o | n |\n",
        " +---+---+---+---+---+---+\n",
        "   0   1   2   3   4   5   \n",
        "  -6  -5  -4  -3  -2  -1\n",
        "```\n",
        "\n"
      ],
      "metadata": {
        "id": "0CiFyrFIaOJF"
      }
    },
    {
      "cell_type": "code",
      "source": [
        "'Python'[-4]  # ulteriore esempio di indexing"
      ],
      "metadata": {
        "colab": {
          "base_uri": "https://localhost:8080/",
          "height": 36
        },
        "id": "eVcZ1lW9bJ-d",
        "outputId": "7c45037f-eec2-48b5-8fb1-3e9737d56d3e"
      },
      "execution_count": null,
      "outputs": [
        {
          "output_type": "execute_result",
          "data": {
            "text/plain": [
              "'t'"
            ],
            "application/vnd.google.colaboratory.intrinsic+json": {
              "type": "string"
            }
          },
          "metadata": {},
          "execution_count": 12
        }
      ]
    },
    {
      "cell_type": "code",
      "source": [
        "'Python'[1:3]   # 3 non incluso"
      ],
      "metadata": {
        "colab": {
          "base_uri": "https://localhost:8080/",
          "height": 36
        },
        "id": "mz8O-WoWbXH5",
        "outputId": "e22774eb-3a65-4226-f5dc-2505e351b7d1"
      },
      "execution_count": null,
      "outputs": [
        {
          "output_type": "execute_result",
          "data": {
            "text/plain": [
              "'yt'"
            ],
            "application/vnd.google.colaboratory.intrinsic+json": {
              "type": "string"
            }
          },
          "metadata": {},
          "execution_count": 13
        }
      ]
    },
    {
      "cell_type": "code",
      "source": [
        "'Python'[-5:-3] # -3 non incluso"
      ],
      "metadata": {
        "colab": {
          "base_uri": "https://localhost:8080/",
          "height": 36
        },
        "id": "QkKLlUXyerm4",
        "outputId": "d6a6a1bd-07dd-486c-f5dc-c400506ca208"
      },
      "execution_count": null,
      "outputs": [
        {
          "output_type": "execute_result",
          "data": {
            "text/plain": [
              "'yt'"
            ],
            "application/vnd.google.colaboratory.intrinsic+json": {
              "type": "string"
            }
          },
          "metadata": {},
          "execution_count": 14
        }
      ]
    },
    {
      "cell_type": "code",
      "source": [
        "( 'Python'[1:2] == 'Python'[1] ) & ( 'Python'[-3:-5] != 'Python'[-5:-3] )"
      ],
      "metadata": {
        "colab": {
          "base_uri": "https://localhost:8080/"
        },
        "id": "l8FKHXApbkSo",
        "outputId": "308910b1-a5a5-4835-e9b7-d89c40dc7bfb"
      },
      "execution_count": null,
      "outputs": [
        {
          "output_type": "execute_result",
          "data": {
            "text/plain": [
              "True"
            ]
          },
          "metadata": {},
          "execution_count": 15
        }
      ]
    },
    {
      "cell_type": "code",
      "source": [
        "'Python'[:1] + 'stizza'[-4:]"
      ],
      "metadata": {
        "colab": {
          "base_uri": "https://localhost:8080/",
          "height": 36
        },
        "id": "NKlAF01HdwBv",
        "outputId": "6fbbf1f5-5369-4784-a2c9-74b69a7fc8ca"
      },
      "execution_count": null,
      "outputs": [
        {
          "output_type": "execute_result",
          "data": {
            "text/plain": [
              "'Pizza'"
            ],
            "application/vnd.google.colaboratory.intrinsic+json": {
              "type": "string"
            }
          },
          "metadata": {},
          "execution_count": 16
        }
      ]
    },
    {
      "cell_type": "code",
      "source": [
        "'Python'[::2]"
      ],
      "metadata": {
        "colab": {
          "base_uri": "https://localhost:8080/",
          "height": 36
        },
        "id": "q57jr9n91Z9D",
        "outputId": "220c9630-d0a4-4dba-9bea-5879db64d6f0"
      },
      "execution_count": null,
      "outputs": [
        {
          "output_type": "execute_result",
          "data": {
            "text/plain": [
              "'Pto'"
            ],
            "application/vnd.google.colaboratory.intrinsic+json": {
              "type": "string"
            }
          },
          "metadata": {},
          "execution_count": 17
        }
      ]
    },
    {
      "cell_type": "markdown",
      "source": [
        "####**Operazioni utili**"
      ],
      "metadata": {
        "id": "KnZDTn_1fEg2"
      }
    },
    {
      "cell_type": "code",
      "source": [
        "'Mario' + 'Rossi'  # \"+\" funziona anche come operatore \"append\" per le stringhe"
      ],
      "metadata": {
        "colab": {
          "base_uri": "https://localhost:8080/",
          "height": 36
        },
        "id": "Mjksbe47elVE",
        "outputId": "a8c30a53-e61f-45c5-ec2d-e8322cefb9dc"
      },
      "execution_count": null,
      "outputs": [
        {
          "output_type": "execute_result",
          "data": {
            "text/plain": [
              "'MarioRossi'"
            ],
            "application/vnd.google.colaboratory.intrinsic+json": {
              "type": "string"
            }
          },
          "metadata": {},
          "execution_count": 18
        }
      ]
    },
    {
      "cell_type": "code",
      "source": [
        "'Mario' * 3         # '*' è anche un operatore che moltiplica e concatena stringhe"
      ],
      "metadata": {
        "colab": {
          "base_uri": "https://localhost:8080/",
          "height": 36
        },
        "id": "Okoy9QJYXj7L",
        "outputId": "17843e0d-ab66-4373-82dc-56f8160c85e5"
      },
      "execution_count": null,
      "outputs": [
        {
          "output_type": "execute_result",
          "data": {
            "text/plain": [
              "'MarioMarioMario'"
            ],
            "application/vnd.google.colaboratory.intrinsic+json": {
              "type": "string"
            }
          },
          "metadata": {},
          "execution_count": 19
        }
      ]
    },
    {
      "cell_type": "code",
      "source": [
        "len('Mario')"
      ],
      "metadata": {
        "colab": {
          "base_uri": "https://localhost:8080/"
        },
        "id": "-oz3B-pxfObd",
        "outputId": "40b0c584-d3da-41ec-8ab5-11c04f16cf9a"
      },
      "execution_count": null,
      "outputs": [
        {
          "output_type": "execute_result",
          "data": {
            "text/plain": [
              "5"
            ]
          },
          "metadata": {},
          "execution_count": 20
        }
      ]
    },
    {
      "cell_type": "code",
      "source": [
        "max('Mario')  # lessicograficamente"
      ],
      "metadata": {
        "colab": {
          "base_uri": "https://localhost:8080/",
          "height": 36
        },
        "id": "wIH-oAX3lFBL",
        "outputId": "27848e96-17ce-490c-fd7c-3df40afa66c9"
      },
      "execution_count": null,
      "outputs": [
        {
          "output_type": "execute_result",
          "data": {
            "text/plain": [
              "'r'"
            ],
            "application/vnd.google.colaboratory.intrinsic+json": {
              "type": "string"
            }
          },
          "metadata": {},
          "execution_count": 21
        }
      ]
    },
    {
      "cell_type": "code",
      "source": [
        "min('Mario')  # le maiuscole sono più \"piccole\" delle minuscole per quanto riguarda il codice ASCII"
      ],
      "metadata": {
        "colab": {
          "base_uri": "https://localhost:8080/",
          "height": 36
        },
        "id": "fCLFoQlflDbd",
        "outputId": "2ca63a93-1940-47d4-c8ac-169e06092eea"
      },
      "execution_count": null,
      "outputs": [
        {
          "output_type": "execute_result",
          "data": {
            "text/plain": [
              "'M'"
            ],
            "application/vnd.google.colaboratory.intrinsic+json": {
              "type": "string"
            }
          },
          "metadata": {},
          "execution_count": 22
        }
      ]
    },
    {
      "cell_type": "markdown",
      "source": [
        "####**Metodi utili**"
      ],
      "metadata": {
        "id": "f68TPCSUlkjf"
      }
    },
    {
      "cell_type": "code",
      "source": [
        "'Ing. Mario Rossi'.split(' ', maxsplit=1)     # .split(' ' [, maxsplit])"
      ],
      "metadata": {
        "colab": {
          "base_uri": "https://localhost:8080/"
        },
        "id": "ESMYfijHlqK0",
        "outputId": "2849b17b-01aa-48a2-c94b-69fea4d7cc7c"
      },
      "execution_count": null,
      "outputs": [
        {
          "output_type": "execute_result",
          "data": {
            "text/plain": [
              "['Ing.', 'Mario Rossi']"
            ]
          },
          "metadata": {},
          "execution_count": 23
        }
      ]
    },
    {
      "cell_type": "code",
      "source": [
        "'rossi'.join('MARIO')                         # stringa.join(iteratore)"
      ],
      "metadata": {
        "colab": {
          "base_uri": "https://localhost:8080/",
          "height": 36
        },
        "id": "IJ9xkiDHl_Or",
        "outputId": "7e9acfbd-d797-46b4-ca58-4095e515efb7"
      },
      "execution_count": null,
      "outputs": [
        {
          "output_type": "execute_result",
          "data": {
            "text/plain": [
              "'MrossiArossiRrossiIrossiO'"
            ],
            "application/vnd.google.colaboratory.intrinsic+json": {
              "type": "string"
            }
          },
          "metadata": {},
          "execution_count": 24
        }
      ]
    },
    {
      "cell_type": "code",
      "source": [
        "print( 'MaRiO'.lower() )\n",
        "print( 'MaRiO'.upper() )"
      ],
      "metadata": {
        "colab": {
          "base_uri": "https://localhost:8080/"
        },
        "id": "siLJaiDXmlA_",
        "outputId": "c68323ba-390c-41cf-dc79-f4014e3fde4c"
      },
      "execution_count": null,
      "outputs": [
        {
          "output_type": "stream",
          "name": "stdout",
          "text": [
            "mario\n",
            "MARIO\n"
          ]
        }
      ]
    },
    {
      "cell_type": "code",
      "source": [
        "'Supercalifragilistichespiralidoso'.find('p', 1, 13)\n",
        "\n",
        "# ritorna l'indice della prima 'p' nella slice compresa tra l'indice 1 e il 13\n",
        "# stampa -1 altrimenti"
      ],
      "metadata": {
        "colab": {
          "base_uri": "https://localhost:8080/"
        },
        "id": "q3oo0wHgm9s0",
        "outputId": "53386f20-5de2-4f7b-eb88-310c6a94769b"
      },
      "execution_count": null,
      "outputs": [
        {
          "output_type": "execute_result",
          "data": {
            "text/plain": [
              "2"
            ]
          },
          "metadata": {},
          "execution_count": 26
        }
      ]
    },
    {
      "cell_type": "code",
      "source": [
        "'M a r i o'.replace(' ', '-', 2)              # .replace(' ', '-' [, num_volte])"
      ],
      "metadata": {
        "colab": {
          "base_uri": "https://localhost:8080/",
          "height": 36
        },
        "id": "FJ8iRUrRnYqS",
        "outputId": "2e760f2e-a8a4-4a44-d0fc-a4f779fea84a"
      },
      "execution_count": null,
      "outputs": [
        {
          "output_type": "execute_result",
          "data": {
            "text/plain": [
              "'M-a-r i o'"
            ],
            "application/vnd.google.colaboratory.intrinsic+json": {
              "type": "string"
            }
          },
          "metadata": {},
          "execution_count": 27
        }
      ]
    },
    {
      "cell_type": "code",
      "source": [
        "'    Ma - rio    '.strip()"
      ],
      "metadata": {
        "colab": {
          "base_uri": "https://localhost:8080/",
          "height": 36
        },
        "id": "L2IYXuqAneMM",
        "outputId": "af0ab44c-9055-4b79-95bf-0aac829875bd"
      },
      "execution_count": null,
      "outputs": [
        {
          "output_type": "execute_result",
          "data": {
            "text/plain": [
              "'Ma - rio'"
            ],
            "application/vnd.google.colaboratory.intrinsic+json": {
              "type": "string"
            }
          },
          "metadata": {},
          "execution_count": 28
        }
      ]
    },
    {
      "cell_type": "markdown",
      "source": [
        "###**Operatori numerici di base**"
      ],
      "metadata": {
        "id": "GFfOR6TmOOHK"
      }
    },
    {
      "cell_type": "code",
      "source": [
        "5 + 3 - 2     # precedenze: ** > * > { +, - } > /"
      ],
      "metadata": {
        "colab": {
          "base_uri": "https://localhost:8080/"
        },
        "id": "H0U-J21Xeg94",
        "outputId": "3d47cb9d-21c1-4da0-dcb3-c984335d2ad9"
      },
      "execution_count": null,
      "outputs": [
        {
          "output_type": "execute_result",
          "data": {
            "text/plain": [
              "6"
            ]
          },
          "metadata": {},
          "execution_count": 29
        }
      ]
    },
    {
      "cell_type": "code",
      "source": [
        "(((4 - 2)* 4)** 2)  # * è la moltiplicazione, ** è l'elevamento a potenza"
      ],
      "metadata": {
        "colab": {
          "base_uri": "https://localhost:8080/"
        },
        "id": "m3jmwB3UfLaG",
        "outputId": "db2f4997-34a1-4c3a-d71f-7757dd677176"
      },
      "execution_count": null,
      "outputs": [
        {
          "output_type": "execute_result",
          "data": {
            "text/plain": [
              "64"
            ]
          },
          "metadata": {},
          "execution_count": 30
        }
      ]
    },
    {
      "cell_type": "code",
      "source": [
        "64 / 2  # la divisione ritorna sempre un float"
      ],
      "metadata": {
        "colab": {
          "base_uri": "https://localhost:8080/"
        },
        "id": "CinTaiy1-UMZ",
        "outputId": "b31e237e-daed-467e-c3cb-e0515e102ec2"
      },
      "execution_count": null,
      "outputs": [
        {
          "output_type": "execute_result",
          "data": {
            "text/plain": [
              "32.0"
            ]
          },
          "metadata": {},
          "execution_count": 31
        }
      ]
    },
    {
      "cell_type": "code",
      "source": [
        "64 // 2 # divisione approssimata all'intero inferiore"
      ],
      "metadata": {
        "colab": {
          "base_uri": "https://localhost:8080/"
        },
        "id": "Xkx7ngHt-sFI",
        "outputId": "e1ec18c8-9913-4e2f-c59e-2d69db19e773"
      },
      "execution_count": null,
      "outputs": [
        {
          "output_type": "execute_result",
          "data": {
            "text/plain": [
              "32"
            ]
          },
          "metadata": {},
          "execution_count": 32
        }
      ]
    },
    {
      "cell_type": "code",
      "source": [
        "65 % 2 # resto intero della divisione"
      ],
      "metadata": {
        "colab": {
          "base_uri": "https://localhost:8080/"
        },
        "id": "U8nXr-UA_BII",
        "outputId": "980d645b-ddc0-4fe6-fa82-8015dc2a4a39"
      },
      "execution_count": null,
      "outputs": [
        {
          "output_type": "execute_result",
          "data": {
            "text/plain": [
              "1"
            ]
          },
          "metadata": {},
          "execution_count": 33
        }
      ]
    },
    {
      "cell_type": "code",
      "source": [
        "3 + _   # l'underscore serve per considerare il precedente risultato"
      ],
      "metadata": {
        "colab": {
          "base_uri": "https://localhost:8080/"
        },
        "id": "4O8QMFIGQqg5",
        "outputId": "7e1ee15e-887b-420d-99bf-8b578da0e074"
      },
      "execution_count": null,
      "outputs": [
        {
          "output_type": "execute_result",
          "data": {
            "text/plain": [
              "4"
            ]
          },
          "metadata": {},
          "execution_count": 34
        }
      ]
    },
    {
      "cell_type": "markdown",
      "source": [
        "###**Variabili e tipizzazione**\n",
        "Python è un linguaggio a **tipizzazione dinamica**, significa che una variabile può cambiare il suo *tipo a runtime*. Inoltre è un linguaggio **interpretato** e non bisogna *dichiarare* le variabili."
      ],
      "metadata": {
        "id": "Mwk2yXbMgLcv"
      }
    },
    {
      "cell_type": "code",
      "source": [
        "animale = 'struzzo'       # string\n",
        "ali = 2                   # integer\n",
        "peso_medio = 63 + 140 /2  # float\n",
        "vola = False              # bool\n",
        "\n",
        "print('Uno', animale, 'ha', ali, 'ali e un peso medio di', peso_medio, 'chili.')\n",
        "# print('Uno {} ha {} ali e un peso medio di {} chili.' .format(animale, ali, peso_medio))\n",
        "\n",
        "print('Può volare?', vola)"
      ],
      "metadata": {
        "colab": {
          "base_uri": "https://localhost:8080/"
        },
        "id": "KrWg7j2Gg6go",
        "outputId": "57ae19ec-0a4d-4e70-da9e-a847b2419604"
      },
      "execution_count": null,
      "outputs": [
        {
          "output_type": "stream",
          "name": "stdout",
          "text": [
            "Uno struzzo ha 2 ali e un peso medio di 133.0 chili.\n",
            "Può volare? False\n"
          ]
        }
      ]
    },
    {
      "cell_type": "markdown",
      "source": [
        "È anche possibile eseguire operazioni tra bool e interi, sapendo che per Python True può corrispondere al valore 1 e False al valore 0."
      ],
      "metadata": {
        "id": "OSnABKiTPlAC"
      }
    },
    {
      "cell_type": "code",
      "source": [
        "a = (1 == True)\n",
        "b = (1 == False)\n",
        "c = True + 3\n",
        "d = False + 7\n",
        "\n",
        "print(\"a è\", a)\n",
        "print(\"b è\", b)\n",
        "print(\"c:\", c)\n",
        "print(\"d:\", d)"
      ],
      "metadata": {
        "colab": {
          "base_uri": "https://localhost:8080/"
        },
        "id": "8q-F0MMOPjUn",
        "outputId": "7d634863-9254-42ef-82eb-d886e4194204"
      },
      "execution_count": null,
      "outputs": [
        {
          "output_type": "stream",
          "name": "stdout",
          "text": [
            "a è True\n",
            "b è False\n",
            "c: 4\n",
            "d: 7\n"
          ]
        }
      ]
    },
    {
      "cell_type": "markdown",
      "source": [
        "È anche possibile definire le variabili in linea in modo sintetico."
      ],
      "metadata": {
        "id": "S0rmpBpoJiE6"
      }
    },
    {
      "cell_type": "code",
      "source": [
        "inizio, fine = 0, 100"
      ],
      "metadata": {
        "id": "60iikxfSJagR"
      },
      "execution_count": null,
      "outputs": []
    },
    {
      "cell_type": "markdown",
      "source": [
        "Però è sempre importante *definire* le variabili prima di usarle."
      ],
      "metadata": {
        "id": "0ZEt7M-HP22e"
      }
    },
    {
      "cell_type": "code",
      "source": [
        "# print(n)"
      ],
      "metadata": {
        "id": "M7_KkXTBP_UD"
      },
      "execution_count": null,
      "outputs": []
    },
    {
      "cell_type": "markdown",
      "source": [
        "È possibile verificare a runtime il tipo delle variabili."
      ],
      "metadata": {
        "id": "X_4EIymAHHYZ"
      }
    },
    {
      "cell_type": "code",
      "source": [
        "print(type(vola))\n",
        "type(vola)"
      ],
      "metadata": {
        "colab": {
          "base_uri": "https://localhost:8080/"
        },
        "id": "CNu23o1nHTys",
        "outputId": "40281f2d-cb83-4c4f-e6ec-149cf8d8bd7e"
      },
      "execution_count": null,
      "outputs": [
        {
          "output_type": "stream",
          "name": "stdout",
          "text": [
            "<class 'bool'>\n"
          ]
        },
        {
          "output_type": "execute_result",
          "data": {
            "text/plain": [
              "bool"
            ]
          },
          "metadata": {},
          "execution_count": 39
        }
      ]
    },
    {
      "cell_type": "markdown",
      "source": [
        "Ed è anche possibile modificare il tipo delle variabili dinamicamente."
      ],
      "metadata": {
        "id": "OjDWMqEuHht8"
      }
    },
    {
      "cell_type": "code",
      "source": [
        "print('animale prima:', type(animale))\n",
        "animale = 6\n",
        "print('animale dopo:', type(animale))"
      ],
      "metadata": {
        "colab": {
          "base_uri": "https://localhost:8080/"
        },
        "id": "5j-O2JNTHnk9",
        "outputId": "2d095eaf-df34-4a7c-f133-23b13ad3ef2c"
      },
      "execution_count": null,
      "outputs": [
        {
          "output_type": "stream",
          "name": "stdout",
          "text": [
            "animale prima: <class 'str'>\n",
            "animale dopo: <class 'int'>\n"
          ]
        }
      ]
    },
    {
      "cell_type": "markdown",
      "source": [
        "Esiste anche l'oggetto nullo: None"
      ],
      "metadata": {
        "id": "aK88biP3IDeo"
      }
    },
    {
      "cell_type": "code",
      "source": [
        "senza_valore = None\n",
        "print('senza_valore:', type(None))\n",
        "\n",
        "print(senza_valore == None)         # comparato a tutto il resto, invece, risulta False"
      ],
      "metadata": {
        "colab": {
          "base_uri": "https://localhost:8080/"
        },
        "id": "fj8hsCcTIND0",
        "outputId": "9bb7e98e-1055-403f-b0aa-5c009e6f1603"
      },
      "execution_count": null,
      "outputs": [
        {
          "output_type": "stream",
          "name": "stdout",
          "text": [
            "senza_valore: <class 'NoneType'>\n",
            "True\n"
          ]
        }
      ]
    },
    {
      "cell_type": "markdown",
      "source": [
        "####**Assegnamento:** *per indirizzo*"
      ],
      "metadata": {
        "id": "H8xwd1yQJwx8"
      }
    },
    {
      "cell_type": "code",
      "source": [
        "x = 0\n",
        "y = x\n",
        "x = x + 1       # non viene modificata la cella di memoria, viene creato un nuovo dato per x\n",
        "print(y)\n",
        "print(x)"
      ],
      "metadata": {
        "colab": {
          "base_uri": "https://localhost:8080/"
        },
        "id": "NIjMPyW2Lmb_",
        "outputId": "8641e247-01a9-43fe-cc64-d2fed979d88e"
      },
      "execution_count": null,
      "outputs": [
        {
          "output_type": "stream",
          "name": "stdout",
          "text": [
            "0\n",
            "1\n"
          ]
        }
      ]
    },
    {
      "cell_type": "markdown",
      "source": [
        "Un'unica eccezione a questo comportamento è il tipo *list*, che è mutabile."
      ],
      "metadata": {
        "id": "t22qcpJigLsB"
      }
    },
    {
      "cell_type": "code",
      "source": [
        "x = [0, 1, 2]   # questa è una lista\n",
        "y = x           # assegnamento per indirizzo\n",
        "x.append(3)     # accoda l'elemento 3 alla lista x\n",
        "print(y)"
      ],
      "metadata": {
        "colab": {
          "base_uri": "https://localhost:8080/"
        },
        "id": "bKJJwp7eJ-hN",
        "outputId": "f09e2f7a-4264-4af8-9e37-c1a017c88a82"
      },
      "execution_count": null,
      "outputs": [
        {
          "output_type": "stream",
          "name": "stdout",
          "text": [
            "[0, 1, 2, 3]\n"
          ]
        }
      ]
    },
    {
      "cell_type": "markdown",
      "source": [
        "####**Identità e uguaglianza**"
      ],
      "metadata": {
        "id": "XdQKbPDfS4r7"
      }
    },
    {
      "cell_type": "code",
      "source": [
        "a = []\n",
        "b = []\n",
        "\n",
        "print('a:', id(a))\n",
        "print('b:', id(b), '\\n')\n",
        "\n",
        "print(a == b)      # comparazione basata sull'uguaglianza (considera il valore)\n",
        "print(a is b)      # comparazione basata sull'identità (considera l'elemento stesso)"
      ],
      "metadata": {
        "colab": {
          "base_uri": "https://localhost:8080/"
        },
        "id": "TTec-2EATBsH",
        "outputId": "fc3e704d-7956-426c-e55f-629426d5c5a4"
      },
      "execution_count": null,
      "outputs": [
        {
          "output_type": "stream",
          "name": "stdout",
          "text": [
            "a: 139377543908992\n",
            "b: 139377543472448 \n",
            "\n",
            "True\n",
            "False\n"
          ]
        }
      ]
    },
    {
      "cell_type": "code",
      "source": [
        "a, b = ('sa', 10), ('sa', 10)      # a e b puntano allo stesso oggetto: assegnamento lazy di Python\n",
        "# a, b = 'sa', 'sa'\n",
        "# a, b = 10, 10\n",
        "# a, b = True, True\n",
        "\n",
        "print('a:', id(a))\n",
        "print('b:', id(b), '\\n')\n",
        "\n",
        "print(a == b)            # comparazione basata sull'uguaglianza (considera il valore)\n",
        "print(a is b, '\\n')      # comparazione basata sull'identità (considera l'elemento stesso)\n",
        "\n",
        "c = a\n",
        "\n",
        "print((a is c) & (a is b), '\\n')\n",
        "\n",
        "c = 11\n",
        "\n",
        "print(a is c)"
      ],
      "metadata": {
        "colab": {
          "base_uri": "https://localhost:8080/"
        },
        "id": "TDReiBtkT1Yu",
        "outputId": "873b5fbf-ccd6-466e-bedb-0fcad7edb88a"
      },
      "execution_count": null,
      "outputs": [
        {
          "output_type": "stream",
          "name": "stdout",
          "text": [
            "a: 139377931855552\n",
            "b: 139377931855552 \n",
            "\n",
            "True\n",
            "True \n",
            "\n",
            "True \n",
            "\n",
            "False\n"
          ]
        }
      ]
    },
    {
      "cell_type": "markdown",
      "source": [
        "###**Altre sequenze**\n",
        "sono collezioni ordinate di elementi. Ne esistono varie tipologie, tra cui le *stringhe*. In questa sezione ne vediamo altre tre:\n",
        "\n",
        "1.   *list*: sequenze mutabili\n",
        "2.   *tuple*: sequenze immutabili\n",
        "3.   *range*: sequenze immutabili di numeri"
      ],
      "metadata": {
        "id": "pMUt85XYgVto"
      }
    },
    {
      "cell_type": "code",
      "source": [
        "spesa = [ 'carota', 'cipolla', 'torta', 'pizza' ]   # lista, può contenere anche elementi eterogenei"
      ],
      "metadata": {
        "id": "PizGBAzerbIr"
      },
      "execution_count": null,
      "outputs": []
    },
    {
      "cell_type": "code",
      "source": [
        "annotazioni = (155906, 'cipolla', [5, 6, 7])        # tupla"
      ],
      "metadata": {
        "id": "ix_lDmWt1m__"
      },
      "execution_count": null,
      "outputs": []
    },
    {
      "cell_type": "code",
      "source": [
        "alcuni_numeri = range(7)                            # range( inizio [, fine, step] )\n",
        "print(alcuni_numeri, '->', *alcuni_numeri)\n",
        "\n",
        "altri_numeri = range(2, 11, 2)\n",
        "print(altri_numeri, '->', *altri_numeri)"
      ],
      "metadata": {
        "colab": {
          "base_uri": "https://localhost:8080/"
        },
        "id": "wBeSXWFEuxWJ",
        "outputId": "4027f249-fbf7-4b14-b05d-8029e9d0c70e"
      },
      "execution_count": null,
      "outputs": [
        {
          "output_type": "stream",
          "name": "stdout",
          "text": [
            "range(0, 7) -> 0 1 2 3 4 5 6\n",
            "range(2, 11, 2) -> 2 4 6 8 10\n"
          ]
        }
      ]
    },
    {
      "cell_type": "markdown",
      "source": [
        "Grazie al loro naturale ordinamento è possibile compiere operazioni sulle sequenze, come l'*indexing* e lo *slicing* visti prima per le stringhe.\\\n",
        "Ma non solo! È possibile calcolarne la **lunghezza**, il **massimo** e il **minimo** (compatibilmente con il tipo degli elementi all'interno delle sequenze)."
      ],
      "metadata": {
        "id": "wpbsNd_P3oJm"
      }
    },
    {
      "cell_type": "code",
      "source": [
        "print(len(spesa), len(annotazioni), len(alcuni_numeri))"
      ],
      "metadata": {
        "colab": {
          "base_uri": "https://localhost:8080/"
        },
        "id": "FlGTKA_X3t4f",
        "outputId": "bb4a4cab-cbee-490c-a6a3-2b4bc3406dfa"
      },
      "execution_count": null,
      "outputs": [
        {
          "output_type": "stream",
          "name": "stdout",
          "text": [
            "4 3 7\n"
          ]
        }
      ]
    },
    {
      "cell_type": "code",
      "source": [
        "print( max( [4, 3, 7] ), max(altri_numeri), min(spesa))    # ordine lessicografico per le stringhe"
      ],
      "metadata": {
        "colab": {
          "base_uri": "https://localhost:8080/"
        },
        "id": "7y1B158B5Oox",
        "outputId": "6291556c-446c-410b-e065-1ea3fb863c7c"
      },
      "execution_count": null,
      "outputs": [
        {
          "output_type": "stream",
          "name": "stdout",
          "text": [
            "7 10 carota\n"
          ]
        }
      ]
    },
    {
      "cell_type": "markdown",
      "source": [
        "Le tuple e le liste possono anche essere concatenate, con il +, come avveniva per le stringhe."
      ],
      "metadata": {
        "id": "kTKFaMwTbVKD"
      }
    },
    {
      "cell_type": "markdown",
      "source": [
        "#### **Approfondimento sulle liste**\n",
        "Le liste, essendo immutabili, sono elementi un po' speciali.\\\n",
        "Innanzitutto, possono sfruttare gli stessi **operatori** delle stringhe."
      ],
      "metadata": {
        "id": "2TSSAUAndTi-"
      }
    },
    {
      "cell_type": "code",
      "source": [
        "print(  [1] + [2, 3]  , '\\n')\n",
        "\n",
        "print(  [0, 1] * 3  , '\\n')\n",
        "\n",
        "print(  [1, 2, 3, 4][1:3]  , '\\n')"
      ],
      "metadata": {
        "colab": {
          "base_uri": "https://localhost:8080/"
        },
        "id": "WMDDHIAa58FS",
        "outputId": "2b86ebf9-8b04-4149-85d4-d53ad853a572"
      },
      "execution_count": null,
      "outputs": [
        {
          "output_type": "stream",
          "name": "stdout",
          "text": [
            "[1, 2, 3] \n",
            "\n",
            "[0, 1, 0, 1, 0, 1] \n",
            "\n",
            "[2, 3] \n",
            "\n"
          ]
        }
      ]
    },
    {
      "cell_type": "markdown",
      "source": [
        "In più le liste sono mutabili e possono essere modificate direttamente tramite indexing o slicing e assegnamento."
      ],
      "metadata": {
        "id": "ptWHXRzbc5nu"
      }
    },
    {
      "cell_type": "code",
      "source": [
        "a = [0, 0, 0]\n",
        "a[1] = 1            # mutabile, a differenza delle stringhe e delle altre sequenze\n",
        "print(a)"
      ],
      "metadata": {
        "colab": {
          "base_uri": "https://localhost:8080/"
        },
        "id": "7WGYmMKoZ9N-",
        "outputId": "e957ddce-c956-4802-84f8-2a925c61627a"
      },
      "execution_count": null,
      "outputs": [
        {
          "output_type": "stream",
          "name": "stdout",
          "text": [
            "[0, 1, 0]\n"
          ]
        }
      ]
    },
    {
      "cell_type": "markdown",
      "source": [
        "Le istanze di tipi immutabili non possono essere modificate dopo la creazione. Ogni volta che ci sembra di modificare tali elementi, in realtà, un nuovo dato indipendente viene creato e assegnato alla variabile, mentre quello vecchio viene scartato.\\\n",
        "Ciò invece non accade per i tipi mutabili, come *list*, le cui istanze possono essere direttamente modificate.\\\n",
        "Per maggiori informazioni sulle liste consultare https://docs.python.org/3/tutorial/datastructures.html#more-on-lists."
      ],
      "metadata": {
        "id": "X67x6EmMv6q1"
      }
    },
    {
      "cell_type": "code",
      "source": [
        "# Ricordiamo:\n",
        "#   le funzioni esistono indipendentemente dalle classi\n",
        "#            e non modificano direttamente le istanze;\n",
        "#   i metodi invece sono associati ad una certa classe\n",
        "#            e interrogano o modificano l'istanza su cui vengono chiamati."
      ],
      "metadata": {
        "id": "C-4nfw45LEzE"
      },
      "execution_count": null,
      "outputs": []
    },
    {
      "cell_type": "markdown",
      "source": [
        "#####**Alcuni metodi e del**\n",
        "Innazitutto vediamo alcuni metodi utili:\n",
        "1.   count\n",
        "2.   index\n",
        "3.   insert\n",
        "4.   reverse\n",
        "5.   append\n",
        "6.   sort\n",
        "7.   pop"
      ],
      "metadata": {
        "id": "-MbKXcYncprU"
      }
    },
    {
      "cell_type": "code",
      "source": [
        "fruits = ['orange', 'apple', 'banana', 'kiwi', 'apple', 'banana']\n",
        "print('fruits:', fruits, '\\n')\n",
        "\n",
        "print('count apple:', fruits.count('apple'), '\\n')\n",
        "\n",
        "print('index banana dopo la posizione 4:', fruits.index('banana', 4), '\\n')  # trova la prossima 'banana' partendo dalla posizione 4\n",
        "\n",
        "fruits.insert(2, 'pear')                                                     # .insert(indice, elemento) inserisce un elemento nella lista all'indice specificato\n",
        "print('insert:', fruits, '\\n')\n",
        "\n",
        "fruits.reverse()\n",
        "print('reverse:', fruits, '\\n')\n",
        "\n",
        "fruits.append('grape')                                                       # .append(elemento) è un metodo del tipo list che serve per concatenare un elemento alla fine della lista\n",
        "# fruits[len(fruits):] = ['grape']\n",
        "print('append grape:', fruits, '\\n')\n",
        "\n",
        "fruits.sort()\n",
        "print('sort:', fruits, '\\n')\n",
        "\n",
        "print('elemento prelevato:', fruits.pop(), '\\n')                             # .remove(elemento), invece, rimuove la prima occorrenza dell'elemento nella lista\n",
        "print('pop:',fruits)"
      ],
      "metadata": {
        "colab": {
          "base_uri": "https://localhost:8080/"
        },
        "id": "J7Oy61AYxgXE",
        "outputId": "0f5fae2e-daf9-43a0-cc48-75d4e97e8f54"
      },
      "execution_count": null,
      "outputs": [
        {
          "output_type": "stream",
          "name": "stdout",
          "text": [
            "fruits: ['orange', 'apple', 'banana', 'kiwi', 'apple', 'banana'] \n",
            "\n",
            "count apple: 2 \n",
            "\n",
            "index banana dopo la posizione 4: 5 \n",
            "\n",
            "insert: ['orange', 'apple', 'pear', 'banana', 'kiwi', 'apple', 'banana'] \n",
            "\n",
            "reverse: ['banana', 'apple', 'kiwi', 'banana', 'pear', 'apple', 'orange'] \n",
            "\n",
            "append grape: ['banana', 'apple', 'kiwi', 'banana', 'pear', 'apple', 'orange', 'grape'] \n",
            "\n",
            "sort: ['apple', 'apple', 'banana', 'banana', 'grape', 'kiwi', 'orange', 'pear'] \n",
            "\n",
            "elemento prelevato: pear \n",
            "\n",
            "pop: ['apple', 'apple', 'banana', 'banana', 'grape', 'kiwi', 'orange']\n"
          ]
        }
      ]
    },
    {
      "cell_type": "code",
      "source": [
        "del fruits[1:3]     # del è uno statement che serve per eliminare elementi dalla lista (può essere usato anche per i dizionari)\n",
        "print(fruits)"
      ],
      "metadata": {
        "colab": {
          "base_uri": "https://localhost:8080/"
        },
        "id": "JwqSAc078Krw",
        "outputId": "24d12d5b-2a28-4800-f5ce-6315e67afc96"
      },
      "execution_count": null,
      "outputs": [
        {
          "output_type": "stream",
          "name": "stdout",
          "text": [
            "['apple', 'banana', 'grape', 'kiwi', 'orange']\n"
          ]
        }
      ]
    },
    {
      "cell_type": "markdown",
      "source": [
        "#####**copy**\n",
        "Per le liste, dal punto di vista implementativo, è una *shallow copy*. È diverso da quello che succedeva prima con l'assegnamento."
      ],
      "metadata": {
        "id": "kdoidceW4siQ"
      }
    },
    {
      "cell_type": "code",
      "source": [
        "fruits = ['orange', 'apple', 'pear', 'banana', 'kiwi', 'apple', 'banana']\n",
        "frutta = fruits.copy()\n",
        "\n",
        "print('fruits:', fruits)\n",
        "print('frutta:', frutta, '\\n')\n",
        "\n",
        "fruits[2] = 'watermelon'\n",
        "\n",
        "print('fruits:', fruits)\n",
        "print('frutta:', frutta)"
      ],
      "metadata": {
        "colab": {
          "base_uri": "https://localhost:8080/"
        },
        "id": "GwHZ7htmyYXr",
        "outputId": "29b440cf-7c5f-4e8c-8c61-bfcb4d7ba265"
      },
      "execution_count": null,
      "outputs": [
        {
          "output_type": "stream",
          "name": "stdout",
          "text": [
            "fruits: ['orange', 'apple', 'pear', 'banana', 'kiwi', 'apple', 'banana']\n",
            "frutta: ['orange', 'apple', 'pear', 'banana', 'kiwi', 'apple', 'banana'] \n",
            "\n",
            "fruits: ['orange', 'apple', 'watermelon', 'banana', 'kiwi', 'apple', 'banana']\n",
            "frutta: ['orange', 'apple', 'pear', 'banana', 'kiwi', 'apple', 'banana']\n"
          ]
        }
      ]
    },
    {
      "cell_type": "code",
      "source": [
        "fruits = [['orange'], ['apple', 'pear'], ['banana', 'kiwi']]\n",
        "frutta = fruits.copy()\n",
        "\n",
        "print('fruits:', fruits)\n",
        "print('frutta:', frutta, '\\n')\n",
        "\n",
        "fruits[0].append('grape')\n",
        "\n",
        "print('fruits:', fruits)\n",
        "print('frutta:', frutta)                  # quindi occhio con le liste!"
      ],
      "metadata": {
        "colab": {
          "base_uri": "https://localhost:8080/"
        },
        "id": "gHbhenzz6Het",
        "outputId": "51248d5f-06f2-49d3-b641-b9737975338d"
      },
      "execution_count": null,
      "outputs": [
        {
          "output_type": "stream",
          "name": "stdout",
          "text": [
            "fruits: [['orange'], ['apple', 'pear'], ['banana', 'kiwi']]\n",
            "frutta: [['orange'], ['apple', 'pear'], ['banana', 'kiwi']] \n",
            "\n",
            "fruits: [['orange', 'grape'], ['apple', 'pear'], ['banana', 'kiwi']]\n",
            "frutta: [['orange', 'grape'], ['apple', 'pear'], ['banana', 'kiwi']]\n"
          ]
        }
      ]
    },
    {
      "cell_type": "markdown",
      "source": [
        "###**Set**\n",
        "sono collezioni di elementi non duplicati e non ordinati."
      ],
      "metadata": {
        "id": "uIn5cLtM8qQc"
      }
    },
    {
      "cell_type": "code",
      "source": [
        "fruits = {'apple', 'orange', 'apple', 'pear', 'orange', 'banana'}\n",
        "print(fruits, '\\n')                                 # i duplicati vengono rimossi\n",
        "\n",
        "test = 'orange' in fruits                           # test di appartenenza\n",
        "print(test)\n",
        "\n",
        "test = 'crabgrass' in fruits\n",
        "print(test, '\\n')\n",
        "\n",
        "# operazioni tra elementi di set\n",
        "\n",
        "a = set('abracadabra')\n",
        "b = set('alacazam')\n",
        "\n",
        "print('lettere di a senza ripetizioni:', a)         # lettere di a senza ripetizioni\n",
        "print('lettere di b senza ripetizioni:', b, '\\n')\n",
        "\n",
        "c = a - b                                           # lettere in a ma non in b\n",
        "print('lettere in a, ma non in b:', c, '\\n')\n",
        "c = a | b                                           # lettere in a o b o entrambe\n",
        "print('lettere in a o b:', c, '\\n')\n",
        "c = a & b                                           # lettere sia in a sia in b\n",
        "print('lettere in a e in b:', c, '\\n')\n",
        "c = a ^ b                                           # lettere in a o b ma non in entrambe\n",
        "print('lettere in a xor in b:', c)"
      ],
      "metadata": {
        "colab": {
          "base_uri": "https://localhost:8080/"
        },
        "id": "3YEeEKXX86s8",
        "outputId": "410668a7-8e9c-4657-c5c3-b2285864f004"
      },
      "execution_count": null,
      "outputs": [
        {
          "output_type": "stream",
          "name": "stdout",
          "text": [
            "{'banana', 'orange', 'apple', 'pear'} \n",
            "\n",
            "True\n",
            "False \n",
            "\n",
            "lettere di a senza ripetizioni: {'b', 'r', 'c', 'a', 'd'}\n",
            "lettere di b senza ripetizioni: {'c', 'a', 'm', 'l', 'z'} \n",
            "\n",
            "lettere in a, ma non in b: {'b', 'r', 'd'} \n",
            "\n",
            "lettere in a o b: {'b', 'r', 'c', 'a', 'm', 'l', 'z', 'd'} \n",
            "\n",
            "lettere in a e in b: {'a', 'c'} \n",
            "\n",
            "lettere in a xor in b: {'z', 'b', 'r', 'm', 'l', 'd'}\n"
          ]
        }
      ]
    },
    {
      "cell_type": "markdown",
      "source": [
        "###**Dictionary**\n",
        "I dizionari sono come delle memorie associative. Il concetto è simile a quello degli array, ma qui ciascun elemento non è associato ad un indice, bensì ad una chiave (***key***) che può essere di un qualsiasi tipo ***immutabile***. \\\n",
        "\n",
        "Possiamo pensare ai dizionari come un *set* (non ordinato) di coppie *key:value* (ovvero *chiave:valore*), con chiavi uniche.\\\n",
        "Anche sui dizionari possiamo usare alcuni metodi già visti, come *len*, e alcuni statement, come *del*, nonchè literals, come *in* e *not in*. Per maggiori informazioni, consultare la libreria standard."
      ],
      "metadata": {
        "id": "uTsQwT1YL_hL"
      }
    },
    {
      "cell_type": "code",
      "source": [
        "# Ripasso:\n",
        "# I valori letterali (literals) sono costanti autoesplicative che non hanno bisogno di essere calcolate o valutate.\n",
        "# Gli statement sono istruzioni che l'interpreter Python può direttamente eseguire nel contesto in cui si trovano.\n",
        "# I metodi e le funzioni invece attivano un nuovo contesto di esecuzione.\n",
        "#\n",
        "#     Vedi la sezione Scope per un piccolissimo approdondimento sul contesto."
      ],
      "metadata": {
        "id": "ksU6MKvOJD7l"
      },
      "execution_count": null,
      "outputs": []
    },
    {
      "cell_type": "markdown",
      "source": [
        "Vediamo come crearli."
      ],
      "metadata": {
        "id": "L_XAyURxp4FC"
      }
    },
    {
      "cell_type": "code",
      "source": [
        "dictionary1 = { 'A':'anatra', 'B': 'barca', 'Z': 'zuffa'}\n",
        "\n",
        "dictionary2 = dict([('sam', 4139), ('guido', 4127), ('jack', 4098)])\n",
        "\n",
        "# quando le chiavi sono stringhe si possono specificare le coppie così\n",
        "dictionary3 = dict(sam=4139, guido=4127, jack=4098)\n",
        "\n",
        "print(dictionary1, dictionary2, dictionary3, sep = '\\n\\n')"
      ],
      "metadata": {
        "colab": {
          "base_uri": "https://localhost:8080/"
        },
        "id": "Mx4OrcvIkhNr",
        "outputId": "25b89b77-c8d7-4162-8404-f14b76ccd6d9"
      },
      "execution_count": null,
      "outputs": [
        {
          "output_type": "stream",
          "name": "stdout",
          "text": [
            "{'A': 'anatra', 'B': 'barca', 'Z': 'zuffa'}\n",
            "\n",
            "{'sam': 4139, 'guido': 4127, 'jack': 4098}\n",
            "\n",
            "{'sam': 4139, 'guido': 4127, 'jack': 4098}\n"
          ]
        }
      ]
    },
    {
      "cell_type": "markdown",
      "source": [
        "E ora come accedere agli elementi."
      ],
      "metadata": {
        "id": "3ifOkmu7p8xr"
      }
    },
    {
      "cell_type": "code",
      "source": [
        "dictionary1['B']"
      ],
      "metadata": {
        "colab": {
          "base_uri": "https://localhost:8080/",
          "height": 36
        },
        "id": "j1yODZp8qi5v",
        "outputId": "9c6b67a6-d8d3-4aba-c789-d604ad052952"
      },
      "execution_count": null,
      "outputs": [
        {
          "output_type": "execute_result",
          "data": {
            "text/plain": [
              "'barca'"
            ],
            "application/vnd.google.colaboratory.intrinsic+json": {
              "type": "string"
            }
          },
          "metadata": {},
          "execution_count": 61
        }
      ]
    },
    {
      "cell_type": "code",
      "source": [
        "chiave = 'A'\n",
        "valore = dictionary1.get(chiave)    # .get(chiave [, valore_di_ritorno_se_non_esiste_chiave]) ritorna None se la chiave non c'è\n",
        "print(valore)"
      ],
      "metadata": {
        "colab": {
          "base_uri": "https://localhost:8080/"
        },
        "id": "jXdkoJ5LrhOF",
        "outputId": "4f3b7c10-b790-4688-9804-57142f3693d9"
      },
      "execution_count": null,
      "outputs": [
        {
          "output_type": "stream",
          "name": "stdout",
          "text": [
            "anatra\n"
          ]
        }
      ]
    },
    {
      "cell_type": "code",
      "source": [
        "{}['X'] = 2               # così popolo un dizionario vuoto {} con la coppia 'X':2"
      ],
      "metadata": {
        "id": "eKZ2gKqAqo90"
      },
      "execution_count": null,
      "outputs": []
    },
    {
      "cell_type": "code",
      "source": [
        "dictionary1['B'] = 2      # così modifico la coppia con chiave 'B'\n",
        "print(dictionary1)"
      ],
      "metadata": {
        "colab": {
          "base_uri": "https://localhost:8080/"
        },
        "id": "5zDC_t5Uq6ie",
        "outputId": "21b16f89-4b40-4771-e0fa-4f8b6dd81078"
      },
      "execution_count": null,
      "outputs": [
        {
          "output_type": "stream",
          "name": "stdout",
          "text": [
            "{'A': 'anatra', 'B': 2, 'Z': 'zuffa'}\n"
          ]
        }
      ]
    },
    {
      "cell_type": "markdown",
      "source": [
        "Esiste un altro modo per accedere ai dizionari:"
      ],
      "metadata": {
        "id": "xO4_nxAwrNri"
      }
    },
    {
      "cell_type": "code",
      "source": [
        "dictionary1.items()     # questo modo di accedere agli elementi del dizionario è usato nei cicli per iterare su key e value"
      ],
      "metadata": {
        "colab": {
          "base_uri": "https://localhost:8080/"
        },
        "id": "EZVkS2JUl-yO",
        "outputId": "67b86eaf-863b-4209-d003-007cde61bca5"
      },
      "execution_count": null,
      "outputs": [
        {
          "output_type": "execute_result",
          "data": {
            "text/plain": [
              "dict_items([('A', 'anatra'), ('B', 2), ('Z', 'zuffa')])"
            ]
          },
          "metadata": {},
          "execution_count": 65
        }
      ]
    },
    {
      "cell_type": "code",
      "source": [
        "# esempio extra\n",
        "\n",
        "knights = {'gallahad': 'the pure', 'robin': 'the brave'}\n",
        "for k, v in knights.items():                                # la chiave e il valore possono essere ottenuti allo stesso momento\n",
        "    print(k, v)"
      ],
      "metadata": {
        "colab": {
          "base_uri": "https://localhost:8080/"
        },
        "id": "j_onpVusmfzt",
        "outputId": "e902148b-3c93-4f93-e6f8-5644adae1a29"
      },
      "execution_count": null,
      "outputs": [
        {
          "output_type": "stream",
          "name": "stdout",
          "text": [
            "gallahad the pure\n",
            "robin the brave\n"
          ]
        }
      ]
    },
    {
      "cell_type": "markdown",
      "source": [
        "###**Branch e cicli**\n",
        "1.   if\n",
        "2.   for\n",
        "3.   while"
      ],
      "metadata": {
        "id": "2K4fUlEzpa-_"
      }
    },
    {
      "cell_type": "markdown",
      "source": [
        "####**If**\n",
        "```\n",
        "if condizione1:\n",
        "    codice_se_condizione1_true\n",
        "[elif condizione2:\n",
        "    codice_se_condizione2_true\n",
        "else:\n",
        "    codice_altrimenti]\n",
        "```\n",
        "Nel codice dell'if si può usare l'istruzione *pass* che non ha nessun effetto."
      ],
      "metadata": {
        "id": "r_qMsQIvSjqU"
      }
    },
    {
      "cell_type": "code",
      "source": [
        "john = 18\n",
        "luca = 16\n",
        "\n",
        "if john > luca:\n",
        "  print(\"John è più grande di Luca\")\n",
        "\n",
        "else:\n",
        "  print(\"John è più piccolo di Luca\")"
      ],
      "metadata": {
        "colab": {
          "base_uri": "https://localhost:8080/"
        },
        "id": "paWBFMi529-B",
        "outputId": "307b5636-e77b-41b4-8dea-136ee8ccd3b5"
      },
      "execution_count": null,
      "outputs": [
        {
          "output_type": "stream",
          "name": "stdout",
          "text": [
            "John è più grande di Luca\n"
          ]
        }
      ]
    },
    {
      "cell_type": "code",
      "source": [
        "john = luca\n",
        "\n",
        "if john > luca:\n",
        "  print(\"John è più grande di Luca\")\n",
        "\n",
        "elif john == luca:\n",
        "  print(\"John e Luca hanno la stessa età\")\n",
        "  # pass\n",
        "\n",
        "else:\n",
        "  print(\"John è più piccolo di Luca\")"
      ],
      "metadata": {
        "colab": {
          "base_uri": "https://localhost:8080/"
        },
        "id": "kHqFLWdeOJC0",
        "outputId": "8a45c007-b63e-479a-a939-84ad9923c829"
      },
      "execution_count": null,
      "outputs": [
        {
          "output_type": "stream",
          "name": "stdout",
          "text": [
            "John e Luca hanno la stessa età\n"
          ]
        }
      ]
    },
    {
      "cell_type": "code",
      "source": [
        "if john != luca:\n",
        "  pass\n",
        "else: print(\"Stessa età\")"
      ],
      "metadata": {
        "colab": {
          "base_uri": "https://localhost:8080/"
        },
        "id": "zguOkEwhUnUg",
        "outputId": "e6da682f-abe0-48dc-c4b3-e1a207ad3924"
      },
      "execution_count": null,
      "outputs": [
        {
          "output_type": "stream",
          "name": "stdout",
          "text": [
            "Stessa età\n"
          ]
        }
      ]
    },
    {
      "cell_type": "code",
      "source": [
        "nums = [1,2,3,4,5,6]\n",
        "\n",
        "True if 3 in nums else False"
      ],
      "metadata": {
        "colab": {
          "base_uri": "https://localhost:8080/"
        },
        "id": "edB8JHTDSeGG",
        "outputId": "6d4d1f3c-f2d5-4108-e8d7-555653bba898"
      },
      "execution_count": null,
      "outputs": [
        {
          "output_type": "execute_result",
          "data": {
            "text/plain": [
              "True"
            ]
          },
          "metadata": {},
          "execution_count": 70
        }
      ]
    },
    {
      "cell_type": "markdown",
      "source": [
        "####**For**\n"
      ],
      "metadata": {
        "id": "XbruIj24SrOW"
      }
    },
    {
      "cell_type": "markdown",
      "source": [
        "L'iteratore con cui eseguiamo il ciclio può essere un set, una lista, una tupla, una stringa o un dizionario. Si possono usare *continue* e *break* come per il while: *continue* per passare all'iterazione successiva e *break* per uscire dal ciclo."
      ],
      "metadata": {
        "id": "0-m_D7B4WZ6Y"
      }
    },
    {
      "cell_type": "code",
      "source": [
        "parole = ['cane', 'Python', 'Colab']\n",
        "for w in parole:\n",
        "    print(w, len(w))"
      ],
      "metadata": {
        "colab": {
          "base_uri": "https://localhost:8080/"
        },
        "id": "yISCi8YlSyms",
        "outputId": "bdcf35b4-8f6d-4426-b690-91cd1d184073"
      },
      "execution_count": null,
      "outputs": [
        {
          "output_type": "stream",
          "name": "stdout",
          "text": [
            "cane 4\n",
            "Python 6\n",
            "Colab 5\n"
          ]
        }
      ]
    },
    {
      "cell_type": "code",
      "source": [
        "for i in range(5):\n",
        "    print(i)"
      ],
      "metadata": {
        "colab": {
          "base_uri": "https://localhost:8080/"
        },
        "id": "rUr6dUNSXY0V",
        "outputId": "87e55e85-0953-490f-b67f-218db266b880"
      },
      "execution_count": null,
      "outputs": [
        {
          "output_type": "stream",
          "name": "stdout",
          "text": [
            "0\n",
            "1\n",
            "2\n",
            "3\n",
            "4\n"
          ]
        }
      ]
    },
    {
      "cell_type": "code",
      "source": [
        "for num in [1, 2, 4, 3]:\n",
        "    if num % 2 == 0:\n",
        "        print(\"Ho trovato un numero pari\", num)\n",
        "        continue\n",
        "    print(\"Ho trovato un numero dispari\", num)"
      ],
      "metadata": {
        "colab": {
          "base_uri": "https://localhost:8080/"
        },
        "id": "7DOtBHJtzKWs",
        "outputId": "1bbb26a9-f6cb-428a-c7d0-ca9d1ca3a467"
      },
      "execution_count": null,
      "outputs": [
        {
          "output_type": "stream",
          "name": "stdout",
          "text": [
            "Ho trovato un numero dispari 1\n",
            "Ho trovato un numero pari 2\n",
            "Ho trovato un numero pari 4\n",
            "Ho trovato un numero dispari 3\n"
          ]
        }
      ]
    },
    {
      "cell_type": "markdown",
      "source": [
        "####**While**"
      ],
      "metadata": {
        "id": "-m88Hj8DWFvX"
      }
    },
    {
      "cell_type": "markdown",
      "source": [
        "Si possono usare *continue*, per passare all'iterazione successiva, e *break*, per uscire dal ciclo."
      ],
      "metadata": {
        "id": "L_OU-2TeYaTA"
      }
    },
    {
      "cell_type": "code",
      "source": [
        "x = 5\n",
        "while x > 0 :\n",
        "  x = x - 1\n",
        "\n",
        "print(x)"
      ],
      "metadata": {
        "colab": {
          "base_uri": "https://localhost:8080/"
        },
        "id": "mai4TCizWNfg",
        "outputId": "28c021cf-cda1-49ee-bede-6da668ade23d"
      },
      "execution_count": null,
      "outputs": [
        {
          "output_type": "stream",
          "name": "stdout",
          "text": [
            "0\n"
          ]
        }
      ]
    },
    {
      "cell_type": "markdown",
      "source": [
        "###**Comprehension**"
      ],
      "metadata": {
        "id": "6V0gIQJ8ROJw"
      }
    },
    {
      "cell_type": "markdown",
      "source": [
        "Dalla documentazione Python: \\\n",
        "*A list comprehension consists of brackets containing an expression followed by a for clause, then zero or more for or if clauses. The result will be a new list resulting from evaluating the expression in the context of the for and if clauses which follow it.*"
      ],
      "metadata": {
        "id": "HjVEk42Xntmm"
      }
    },
    {
      "cell_type": "code",
      "source": [
        "[x**2 for x in range(10)]       # può creare liste ..."
      ],
      "metadata": {
        "colab": {
          "base_uri": "https://localhost:8080/"
        },
        "id": "WnTXtgv7nYEO",
        "outputId": "719fe2c5-a7e4-4cec-d9aa-41b7d423401a"
      },
      "execution_count": null,
      "outputs": [
        {
          "output_type": "execute_result",
          "data": {
            "text/plain": [
              "[0, 1, 4, 9, 16, 25, 36, 49, 64, 81]"
            ]
          },
          "metadata": {},
          "execution_count": 75
        }
      ]
    },
    {
      "cell_type": "code",
      "source": [
        "[(x, y) for x in [1,2,3] for y in [3,1,4] if x != y]        # ... anche un po' complesse, come questa lista di tuple"
      ],
      "metadata": {
        "colab": {
          "base_uri": "https://localhost:8080/"
        },
        "id": "lHpmIywGoGeF",
        "outputId": "02927a47-eba1-485f-a6d6-e2050bbbd89b"
      },
      "execution_count": null,
      "outputs": [
        {
          "output_type": "execute_result",
          "data": {
            "text/plain": [
              "[(1, 3), (1, 4), (2, 3), (2, 1), (2, 4), (3, 1), (3, 4)]"
            ]
          },
          "metadata": {},
          "execution_count": 76
        }
      ]
    },
    {
      "cell_type": "code",
      "source": [
        "# ed è anche possibile avere comprehension innestate\n",
        "matrix = [\n",
        "    [1, 2, 3, 4],\n",
        "    [5, 6, 7, 8],\n",
        "    [9, 10, 11, 12],\n",
        "]\n",
        "\n",
        "[[row[i] for row in matrix] for i in range(4)]"
      ],
      "metadata": {
        "colab": {
          "base_uri": "https://localhost:8080/"
        },
        "id": "g2_-16DbolDb",
        "outputId": "115d2adf-5867-4733-aa6e-693b34fc4572"
      },
      "execution_count": null,
      "outputs": [
        {
          "output_type": "execute_result",
          "data": {
            "text/plain": [
              "[[1, 5, 9], [2, 6, 10], [3, 7, 11], [4, 8, 12]]"
            ]
          },
          "metadata": {},
          "execution_count": 77
        }
      ]
    },
    {
      "cell_type": "code",
      "source": [
        "list(zip(*matrix))      # seppur ci possano piacere le comprehension, è meglio andare sul semplice e chiaro quando si può!"
      ],
      "metadata": {
        "colab": {
          "base_uri": "https://localhost:8080/"
        },
        "id": "jbh1zhPqo3yf",
        "outputId": "bf795dd4-ee0f-4c00-f457-115080df578b"
      },
      "execution_count": null,
      "outputs": [
        {
          "output_type": "execute_result",
          "data": {
            "text/plain": [
              "[(1, 5, 9), (2, 6, 10), (3, 7, 11), (4, 8, 12)]"
            ]
          },
          "metadata": {},
          "execution_count": 78
        }
      ]
    },
    {
      "cell_type": "code",
      "source": [
        "{x: x**2 for x in (2, 4, 6)}    # può creare dizionari"
      ],
      "metadata": {
        "colab": {
          "base_uri": "https://localhost:8080/"
        },
        "id": "dWOO50OCm8pR",
        "outputId": "f71a0bb3-a123-4fc5-dedb-706d769a9f1f"
      },
      "execution_count": null,
      "outputs": [
        {
          "output_type": "execute_result",
          "data": {
            "text/plain": [
              "{2: 4, 4: 16, 6: 36}"
            ]
          },
          "metadata": {},
          "execution_count": 79
        }
      ]
    },
    {
      "cell_type": "markdown",
      "source": [
        "###**Funzioni**"
      ],
      "metadata": {
        "id": "CKrrqlW723UZ"
      }
    },
    {
      "cell_type": "markdown",
      "source": [
        "La sintassi è\n",
        "```\n",
        "def funzione( arg_1, ..., arg_n, opz1=val1, ..., opz_n=val_n):\n",
        "  codice_funzione\n",
        "```\n",
        "Gli argomenti sono normali variabili e possono essere in qualsiasi numero. Se ci sono zero argomenti basta tenere vuoto lo spazio tra le parentesi.\\\n",
        "Alcuni argomenti sono opzionali e, se non vengono specificati dal chiamante, la funzione chiamata usa i valori di default specificati in fase di definizione della funzione stessa.\n",
        "\n",
        "*return* serve per far ritornare un valore alla funzione appena definita. Se un valore di ritorno non è specificato, il default è *None*."
      ],
      "metadata": {
        "id": "hg4EdI2jVM6w"
      }
    },
    {
      "cell_type": "code",
      "source": [
        "def foo():\n",
        "  print('esecuzione di foo()')\n",
        "#  return True\n",
        "\n",
        "print( foo() )"
      ],
      "metadata": {
        "colab": {
          "base_uri": "https://localhost:8080/"
        },
        "id": "R4_5i0IWWKOI",
        "outputId": "821507f8-69e1-4872-d9d0-aedb71cf4a48"
      },
      "execution_count": null,
      "outputs": [
        {
          "output_type": "stream",
          "name": "stdout",
          "text": [
            "esecuzione di foo()\n",
            "None\n"
          ]
        }
      ]
    },
    {
      "cell_type": "code",
      "source": [
        "def media_custom(iter_numeri):\n",
        "  somma = 0\n",
        "  n = len(iter_numeri)\n",
        "  if n == 0:\n",
        "    return 0\n",
        "  for x in iter_numeri:\n",
        "    somma = somma + x\n",
        "  return somma / n\n",
        "\n",
        "media_custom([2,3,5,6])"
      ],
      "metadata": {
        "colab": {
          "base_uri": "https://localhost:8080/"
        },
        "id": "cLzevPG9WgUj",
        "outputId": "ab0ab134-d89d-4a8d-9b7d-daf6416666bb"
      },
      "execution_count": null,
      "outputs": [
        {
          "output_type": "execute_result",
          "data": {
            "text/plain": [
              "4.0"
            ]
          },
          "metadata": {},
          "execution_count": 81
        }
      ]
    },
    {
      "cell_type": "code",
      "source": [
        "def saluti(nome='Mario', cognome='Rossi'):\n",
        "  print(nome, cognome)\n",
        "\n",
        "def circ_cerchio(raggio, pi=3.1415):\n",
        "  print(raggio*2*pi)\n",
        "\n",
        "\n",
        "saluti('Chiara')\n",
        "saluti(cognome = 'Bianchi')\n",
        "\n",
        "circ_cerchio(5, 3)\n",
        "circ_cerchio(5)"
      ],
      "metadata": {
        "colab": {
          "base_uri": "https://localhost:8080/"
        },
        "id": "lIUWgQtzY5bJ",
        "outputId": "0aed6ac3-87b2-41be-dc82-bcf76a31fba4"
      },
      "execution_count": null,
      "outputs": [
        {
          "output_type": "stream",
          "name": "stdout",
          "text": [
            "Chiara Rossi\n",
            "Mario Bianchi\n",
            "30\n",
            "31.415000000000003\n"
          ]
        }
      ]
    },
    {
      "cell_type": "markdown",
      "source": [
        "####**Lambda**\n",
        "Esiste un modo più snello per dichiarare funzioni piccole."
      ],
      "metadata": {
        "id": "cUoaoZIk6Kq9"
      }
    },
    {
      "cell_type": "code",
      "source": [
        "somma_due_numeri = lambda a, b: a + b\n",
        "\n",
        "somma_due_numeri(4,5)"
      ],
      "metadata": {
        "colab": {
          "base_uri": "https://localhost:8080/"
        },
        "id": "S3vs7gbx6VC7",
        "outputId": "fc7768a1-0bfd-4895-9748-23bcb79872cd"
      },
      "execution_count": null,
      "outputs": [
        {
          "output_type": "execute_result",
          "data": {
            "text/plain": [
              "9"
            ]
          },
          "metadata": {},
          "execution_count": 83
        }
      ]
    },
    {
      "cell_type": "markdown",
      "source": [
        "####**Built-in function**\n",
        "Ecco un elenco di tutte le funzioni built-in di Python.\n",
        "![py_functions](https://raw.githubusercontent.com/Nyandwi/PythonBasics/main/py-built-func.jpg)"
      ],
      "metadata": {
        "id": "5eVXEycX7Ipa"
      }
    },
    {
      "cell_type": "markdown",
      "source": [
        "#####**Enumerate**"
      ],
      "metadata": {
        "id": "VcMauOfd8SQc"
      }
    },
    {
      "cell_type": "markdown",
      "source": [
        "Questa funzione built-in produce una collezione di tuple (indice, elemento) a partire da una sequenza in input."
      ],
      "metadata": {
        "id": "07MdQZv38ZKQ"
      }
    },
    {
      "cell_type": "code",
      "source": [
        "stagioni = ['Inverno', 'Primavera', 'Estate', 'Autunno']\n",
        "\n",
        "list(enumerate(stagioni))"
      ],
      "metadata": {
        "colab": {
          "base_uri": "https://localhost:8080/"
        },
        "id": "m9NUTJzo-Ynv",
        "outputId": "aafad7ce-04a4-45a0-8d1c-d9ebb9e377e9"
      },
      "execution_count": null,
      "outputs": [
        {
          "output_type": "execute_result",
          "data": {
            "text/plain": [
              "[(0, 'Inverno'), (1, 'Primavera'), (2, 'Estate'), (3, 'Autunno')]"
            ]
          },
          "metadata": {},
          "execution_count": 84
        }
      ]
    },
    {
      "cell_type": "markdown",
      "source": [
        "Perciò, quando vogliamo iterare su una sequenza, l'indice e il valore corrispondente possono essere ottenuti allo stesso tempo usando la funzione `enumerate()`."
      ],
      "metadata": {
        "id": "sCi45Tty_sks"
      }
    },
    {
      "cell_type": "code",
      "source": [
        "for i, v in enumerate(['tic', 'tac', 'toe']):\n",
        "    print(i, v)"
      ],
      "metadata": {
        "colab": {
          "base_uri": "https://localhost:8080/"
        },
        "id": "J5XjCUMd8Wyb",
        "outputId": "61a5b4a2-fc82-4661-e61e-cf2c0f6ea4a7"
      },
      "execution_count": null,
      "outputs": [
        {
          "output_type": "stream",
          "name": "stdout",
          "text": [
            "0 tic\n",
            "1 tac\n",
            "2 toe\n"
          ]
        }
      ]
    },
    {
      "cell_type": "markdown",
      "source": [
        "#####**Map**\n",
        "Questa funzione built-in dà la possibilità di applicare una funzione su ciascun elemento di una struttura iterabile. Quando è utilizzato su una lista, per esempio, **map** applica la funzione su ciascuno degli elementi al suo interno."
      ],
      "metadata": {
        "id": "bCYeyNRO8rn_"
      }
    },
    {
      "cell_type": "code",
      "source": [
        "def cubi(num):\n",
        "  return num ** 3\n",
        "\n",
        "lista = [0, 1, 2, 3]\n",
        "print(list(map(cubi, lista)))"
      ],
      "metadata": {
        "colab": {
          "base_uri": "https://localhost:8080/"
        },
        "id": "jK6K8Sp09QEy",
        "outputId": "8a9dbbbd-fdd9-4880-e26c-da30048638fc"
      },
      "execution_count": null,
      "outputs": [
        {
          "output_type": "stream",
          "name": "stdout",
          "text": [
            "[0, 1, 8, 27]\n"
          ]
        }
      ]
    },
    {
      "cell_type": "markdown",
      "source": [
        "#####**Filter**\n",
        "Questa funzione built-in dà la possibilità di eseguire un test vero/falso su ciascun elemento di una struttura iterabile, restituendo solo gli elementi che hanno passato il test. Quando è utilizzato su una lista, per esempio, **filter** applica il test su ciascuno degli elementi al suo interno e filtra solo gli elementi che hanno dato esisto \"vero\" al test."
      ],
      "metadata": {
        "id": "Ei3Wtd-H83ee"
      }
    },
    {
      "cell_type": "code",
      "source": [
        "def is_odd(num):\n",
        "  return num % 2 != 0\n",
        "\n",
        "num_list = [1,2,4,5,6,7,8,9,10,11]\n",
        "\n",
        "list(filter(is_odd, num_list))"
      ],
      "metadata": {
        "colab": {
          "base_uri": "https://localhost:8080/"
        },
        "id": "1jR2_Pa7AKkb",
        "outputId": "7ab13939-1138-40eb-f8fb-11a6ee2929cf"
      },
      "execution_count": null,
      "outputs": [
        {
          "output_type": "execute_result",
          "data": {
            "text/plain": [
              "[1, 5, 7, 9, 11]"
            ]
          },
          "metadata": {},
          "execution_count": 87
        }
      ]
    },
    {
      "cell_type": "markdown",
      "source": [
        "#####**Zip**\n",
        "È una funzione che itera su due strutture iterabili e produce una collezione di tuple di due elementi composte da un elemento della prima struttura e un elemento della seconda."
      ],
      "metadata": {
        "id": "vSX6NN_n89v_"
      }
    },
    {
      "cell_type": "code",
      "source": [
        "name = ['Jessie', 'James', 'Meowth']\n",
        "role = ['Lei', 'Lui', 'Pokémon']\n",
        "\n",
        "list(zip(name, role))"
      ],
      "metadata": {
        "colab": {
          "base_uri": "https://localhost:8080/"
        },
        "id": "4XG1cEzpCHx8",
        "outputId": "7ff91a39-8257-4d71-f09f-ef1e6f2c0356"
      },
      "execution_count": null,
      "outputs": [
        {
          "output_type": "execute_result",
          "data": {
            "text/plain": [
              "[('Jessie', 'Lei'), ('James', 'Lui'), ('Meowth', 'Pokémon')]"
            ]
          },
          "metadata": {},
          "execution_count": 88
        }
      ]
    },
    {
      "cell_type": "markdown",
      "source": [
        "###**Classi**: introduzione\n",
        "https://docs.python.org/3/tutorial/classes.html"
      ],
      "metadata": {
        "id": "zxswzJ47dFu8"
      }
    },
    {
      "cell_type": "markdown",
      "source": [
        "Le classi forniscono un mezzo per raggruppare insieme *dati* e *funzionalità*. La creazione di una nuova classe crea un nuovo **tipo** di oggetto, consentendo la creazione di nuove **istanze di quel tipo**.\\\n",
        " A ogni istanza di classe possono essere associati *attributi* per mantenerne lo stato. Inoltre le istanze della classe possono anche avere *metodi* (definiti dalla sua classe) per modificarne lo stato."
      ],
      "metadata": {
        "id": "GEYH23lGw8-S"
      }
    },
    {
      "cell_type": "markdown",
      "source": [
        "Per molte classi si preferisce creare istanze con uno specifico stato iniziale. Pertanto una classe può definire un metodo speciale chiamato `__init__(...)`, che è il *costruttore*."
      ],
      "metadata": {
        "id": "_Q1OQ6lTtUaf"
      }
    },
    {
      "cell_type": "code",
      "source": [
        "class Complex:\n",
        "    def __init__(self, realpart, imagpart):\n",
        "        self.r = realpart\n",
        "        self.i = imagpart"
      ],
      "metadata": {
        "id": "fZBofg01vmTo"
      },
      "execution_count": null,
      "outputs": []
    },
    {
      "cell_type": "markdown",
      "source": [
        "`x = Complex(argomenti_per_init_eccetto_self)` crea una nuova istanza della classe e assegna questo oggetto alla variabile x."
      ],
      "metadata": {
        "id": "Wj0yCyyKt0v1"
      }
    },
    {
      "cell_type": "code",
      "source": [
        "x = Complex(3.0, -4.5)\n",
        "x.r, x.i"
      ],
      "metadata": {
        "colab": {
          "base_uri": "https://localhost:8080/"
        },
        "id": "if63M_V1vqeo",
        "outputId": "bc845bac-ec6d-4914-e777-f81f01c7bf2d"
      },
      "execution_count": null,
      "outputs": [
        {
          "output_type": "execute_result",
          "data": {
            "text/plain": [
              "(3.0, -4.5)"
            ]
          },
          "metadata": {},
          "execution_count": 90
        }
      ]
    },
    {
      "cell_type": "markdown",
      "source": [
        "Ecco un esempio più complesso di Classe."
      ],
      "metadata": {
        "id": "1cdIL-mPwCKs"
      }
    },
    {
      "cell_type": "code",
      "source": [
        "class Animal:\n",
        "\n",
        "  def __init__(self, name, legs, wings, arms): #costruttore\n",
        "    self.name = name\n",
        "    self.legs = legs\n",
        "    self.arms = arms\n",
        "    self.wings = wings\n",
        "\n",
        "  def walk(self):\n",
        "    if self.legs > 0:\n",
        "      print('A {} is walking' .format(self.name))\n",
        "    else:\n",
        "      print('A {} can not walk' .format(self.name))\n",
        "\n",
        "  def __repr__(self):\n",
        "    return self.name"
      ],
      "metadata": {
        "id": "HDCItl71hpsC"
      },
      "execution_count": null,
      "outputs": []
    },
    {
      "cell_type": "code",
      "source": [
        "dog = Animal('Husky', 4, 0, 0)\n",
        "print(dog)\n",
        "\n",
        "# uso dei metodi\n",
        "dog.walk()\n",
        "\n",
        "# accesso agli attributi\n",
        "print(dog.wings)"
      ],
      "metadata": {
        "colab": {
          "base_uri": "https://localhost:8080/"
        },
        "id": "31hRg4Pcike6",
        "outputId": "ccb60897-0519-4cac-8a55-ff6f5df4c6c5"
      },
      "execution_count": null,
      "outputs": [
        {
          "output_type": "stream",
          "name": "stdout",
          "text": [
            "Husky\n",
            "A Husky is walking\n",
            "0\n"
          ]
        }
      ]
    },
    {
      "cell_type": "code",
      "source": [
        "# INHERITANCE - ereditarietà\n",
        "\n",
        "class Dog(Animal):\n",
        "\n",
        "  def __init__(self, name):   # possono usare il costruttore della superclasse e applicare delle modifiche\n",
        "    super().__init__(name, 4, 0, 0)\n",
        "\n",
        "  # implementazione di nuovi metodi\n",
        "  def bark(self):\n",
        "    print('woof!')\n",
        "\n",
        "  # eredita tutti i metodi della classe padre\n",
        "\n",
        "  # possiamo anche specializzarne alcuni\n",
        "  def __repr__(self):\n",
        "    return u\"\\U0001F415\""
      ],
      "metadata": {
        "id": "9q-Ck_N4jDbK"
      },
      "execution_count": null,
      "outputs": []
    },
    {
      "cell_type": "code",
      "source": [
        "dog = Dog('Shiba Inu')\n",
        "print(dog)\n",
        "dog.bark()\n",
        "dog.walk()"
      ],
      "metadata": {
        "colab": {
          "base_uri": "https://localhost:8080/"
        },
        "id": "1nSbnDYQkRhc",
        "outputId": "8f7eb429-381f-479b-d475-647d25409cf4"
      },
      "execution_count": null,
      "outputs": [
        {
          "output_type": "stream",
          "name": "stdout",
          "text": [
            "🐕\n",
            "woof!\n",
            "A Shiba Inu is walking\n"
          ]
        }
      ]
    },
    {
      "cell_type": "markdown",
      "source": [
        "###**Scope**: esempio"
      ],
      "metadata": {
        "id": "RVUgzoRTo1WA"
      }
    },
    {
      "cell_type": "code",
      "source": [
        "def scope_test():\n",
        "    def do_local():\n",
        "        spam = \"local spam\"\n",
        "        print(\"In local scope:\", spam)\n",
        "\n",
        "    def do_nonlocal():\n",
        "        nonlocal spam\n",
        "        spam = \"nonlocal spam\"\n",
        "\n",
        "    def do_global():\n",
        "        global spam\n",
        "        spam = \"global spam\"\n",
        "\n",
        "    spam = \"test spam\"\n",
        "    do_local()\n",
        "    print(\"In nonlocal scope: after local assignment:\", spam)\n",
        "    do_nonlocal()\n",
        "    print(\"In nonlocal scope: after nonlocal assignment:\", spam)\n",
        "    do_global()\n",
        "    print(\"In nonlocal scope: after global assignment:\", spam)\n",
        "\n",
        "spam = 'spam'\n",
        "print(spam)\n",
        "scope_test()\n",
        "print(\"In global scope:\", spam)\n",
        "print(spam)"
      ],
      "metadata": {
        "colab": {
          "base_uri": "https://localhost:8080/"
        },
        "id": "-XD3xjoJo6-D",
        "outputId": "160f371f-848a-4dd9-9eb2-fd9a36b9b5bf"
      },
      "execution_count": null,
      "outputs": [
        {
          "output_type": "stream",
          "name": "stdout",
          "text": [
            "spam\n",
            "In local scope: local spam\n",
            "In nonlocal scope: after local assignment: test spam\n",
            "In nonlocal scope: after nonlocal assignment: nonlocal spam\n",
            "In nonlocal scope: after global assignment: nonlocal spam\n",
            "In global scope: global spam\n",
            "global spam\n"
          ]
        }
      ]
    },
    {
      "cell_type": "markdown",
      "source": [
        "#**ESERCIZI**"
      ],
      "metadata": {
        "id": "BKHrWDX1ywOQ"
      }
    },
    {
      "cell_type": "markdown",
      "source": [
        "##**Stringhe**\n",
        "Qui sono presentati alcuni esercizi semplici sulle stringhe."
      ],
      "metadata": {
        "id": "PLPb4hI8SyD3"
      }
    },
    {
      "cell_type": "markdown",
      "source": [
        "A partire dalla stringa 'elettorale' stampa due volte la parola 'letto' utilizzando due tipi di slicing.\\\n",
        "(Hint: indici positivi e negativi)"
      ],
      "metadata": {
        "id": "hXmP4wVIVRcB"
      }
    },
    {
      "cell_type": "code",
      "source": [
        "print('elettorale'[1:6], 'elettorale'[-9:-4])"
      ],
      "metadata": {
        "colab": {
          "base_uri": "https://localhost:8080/"
        },
        "id": "JOYUuGOMVQvP",
        "outputId": "151b3a11-3508-4a92-e2d3-3344824e198c"
      },
      "execution_count": null,
      "outputs": [
        {
          "output_type": "stream",
          "name": "stdout",
          "text": [
            "letto letto\n"
          ]
        }
      ]
    },
    {
      "cell_type": "markdown",
      "source": [
        "Considera la stringa 'alfaBETO' e stampane la lettera con minor ASCII code. Dopodichè rendila completamente composta da lettere minuscole e stampane nuovamente la lettera con minor ASCII code."
      ],
      "metadata": {
        "id": "4FuLEhAxZhqV"
      }
    },
    {
      "cell_type": "code",
      "source": [
        "print(min('alfaBETO'))\n",
        "print(min('alfaBETO'.lower()))"
      ],
      "metadata": {
        "colab": {
          "base_uri": "https://localhost:8080/"
        },
        "id": "Z0QfzOpAabK1",
        "outputId": "21d015ba-1925-4676-b9d9-cb2265845de9"
      },
      "execution_count": null,
      "outputs": [
        {
          "output_type": "stream",
          "name": "stdout",
          "text": [
            "B\n",
            "a\n"
          ]
        }
      ]
    },
    {
      "cell_type": "markdown",
      "source": [
        "Trasforma la stringa `'   06 06 2006: data di nascita   '` nella lista `[ '06-06-2006' , 'data di nascita' ]`.\\\n",
        "(Hint: occhio agli spazi prima e dopo)"
      ],
      "metadata": {
        "id": "AtNKlZG4We28"
      }
    },
    {
      "cell_type": "code",
      "source": [
        "' 06 06 2006: data di nascita '.strip().replace(' ', '-', 2).split(': ')"
      ],
      "metadata": {
        "colab": {
          "base_uri": "https://localhost:8080/"
        },
        "id": "iWb9TXv3Xh6G",
        "outputId": "e5b9bf78-9dd7-4ef5-d803-327f0afa14f2"
      },
      "execution_count": null,
      "outputs": [
        {
          "output_type": "execute_result",
          "data": {
            "text/plain": [
              "['06-06-2006', 'data di nascita']"
            ]
          },
          "metadata": {},
          "execution_count": 98
        }
      ]
    },
    {
      "cell_type": "markdown",
      "source": [
        "A partire da una stringa contenente il tuo primo nome e il tuo primo cognome scritti in maiuscole, ottieni e stampa una stringa con il tuo nome scritto in maiuscolo e il tuo cognome scritto in minuscolo."
      ],
      "metadata": {
        "id": "E9hbLn5ITKVs"
      }
    },
    {
      "cell_type": "code",
      "source": [
        "print('MARIO ROSSI'.replace('ROSSI', 'rossi'))\n",
        "\n",
        "# Se pensate che si sia barato, ecco un'altra versione\n",
        "# print('MARIO ROSSI'.split(' ')[0], 'MARIO ROSSI'.split(' ')[1].lower(), sep = ' ')\n",
        "\n",
        "# Con l'uso di variabili è molto pù leggibile\n",
        "# lista = 'MARIO ROSSI'.split(' ')\n",
        "# stringa = lista[0] + ' ' + lista[1].lower()\n",
        "# print(type(stringa))                            # verifico che sia effettivamente una stringa. Spoiler: lo è davvero.\n",
        "# print(stringa)"
      ],
      "metadata": {
        "colab": {
          "base_uri": "https://localhost:8080/"
        },
        "id": "gZgZ_42WTJwq",
        "outputId": "4e554be4-022d-4a17-f799-5adff5e6359f"
      },
      "execution_count": null,
      "outputs": [
        {
          "output_type": "stream",
          "name": "stdout",
          "text": [
            "MARIO rossi\n"
          ]
        }
      ]
    },
    {
      "cell_type": "markdown",
      "source": [
        "A partire da una stringa contenente il vostro nome e cognome (es. 'Mario Giuseppe Rossi', stampare la firma breve (es. 'M. G. R.')."
      ],
      "metadata": {
        "id": "FcGd33WUz11M"
      }
    },
    {
      "cell_type": "code",
      "source": [
        "stringa = 'Mario Giuseppe Rossi'\n",
        "for x in stringa:\n",
        "  if x.isupper():\n",
        "    print(x + '.', end = ' ')"
      ],
      "metadata": {
        "colab": {
          "base_uri": "https://localhost:8080/"
        },
        "id": "1pY6W-B2z0jo",
        "outputId": "a684de41-1380-48b5-b01f-566a01cdfb96"
      },
      "execution_count": null,
      "outputs": [
        {
          "output_type": "stream",
          "name": "stdout",
          "text": [
            "M. G. R. "
          ]
        }
      ]
    },
    {
      "cell_type": "markdown",
      "source": [
        "##**Funzioni**"
      ],
      "metadata": {
        "id": "e4d8Gu4BstGF"
      }
    },
    {
      "cell_type": "markdown",
      "source": [
        "Definisci una funzione che calcola il **fattoriale**:\\\n",
        "`n! = n * (n - 1) * (n - 2) * ... * 1`"
      ],
      "metadata": {
        "id": "V1Xolp9IszBZ"
      }
    },
    {
      "cell_type": "code",
      "source": [
        "def fattoriale(n):\n",
        "  if n <= 1:\n",
        "    return 1\n",
        "  return n * fattoriale(n-1)\n",
        "\n",
        "# prova\n",
        "fattoriale(5)"
      ],
      "metadata": {
        "colab": {
          "base_uri": "https://localhost:8080/"
        },
        "id": "hVLhd-GOs2sj",
        "outputId": "c5f2c167-2a77-4941-fe5d-14c690e833a1"
      },
      "execution_count": null,
      "outputs": [
        {
          "output_type": "execute_result",
          "data": {
            "text/plain": [
              "120"
            ]
          },
          "metadata": {},
          "execution_count": 101
        }
      ]
    },
    {
      "cell_type": "markdown",
      "source": [
        "Definisci una funzione che calcola il **coefficiente binomiale**:\\\n",
        "`\"n su k\" = n! / (k! * (n - k)!)`"
      ],
      "metadata": {
        "id": "fWG27RxwO5ye"
      }
    },
    {
      "cell_type": "code",
      "source": [
        "def coeff_bin(n, k):\n",
        "  return fattoriale(n) // (fattoriale(k) * fattoriale(n- k))    # il risultato è sempre intero, perchè sono coefficienti binomiali\n",
        "\n",
        "coeff_bin(4, 3)"
      ],
      "metadata": {
        "colab": {
          "base_uri": "https://localhost:8080/"
        },
        "id": "cpyk5h2hO_uI",
        "outputId": "eb8c5112-d6f8-48f9-e885-b401766fbe3e"
      },
      "execution_count": null,
      "outputs": [
        {
          "output_type": "execute_result",
          "data": {
            "text/plain": [
              "4"
            ]
          },
          "metadata": {},
          "execution_count": 102
        }
      ]
    },
    {
      "cell_type": "code",
      "source": [
        "c_bin = lambda n, k : fattoriale(n) // (fattoriale(k) * fattoriale(n- k))\n",
        "\n",
        "c_bin(4, 3)"
      ],
      "metadata": {
        "colab": {
          "base_uri": "https://localhost:8080/"
        },
        "id": "8ShYj4OF6g3b",
        "outputId": "84eef05e-0e95-48ef-a94b-6e27a522347e"
      },
      "execution_count": null,
      "outputs": [
        {
          "output_type": "execute_result",
          "data": {
            "text/plain": [
              "4"
            ]
          },
          "metadata": {},
          "execution_count": 103
        }
      ]
    },
    {
      "cell_type": "markdown",
      "source": [
        "Crea una funzione che prende in argomento una lista di interi, cicla su di essi e ritorna True se si imbatte in un numero dispari."
      ],
      "metadata": {
        "id": "WudsNOTfaopE"
      }
    },
    {
      "cell_type": "code",
      "source": [
        "def has_odds(lista):\n",
        "  for x in lista:\n",
        "    if x % 2 == 1:\n",
        "      return True\n",
        "\n",
        "print(has_odds([32, 48, 55, 89]))"
      ],
      "metadata": {
        "colab": {
          "base_uri": "https://localhost:8080/"
        },
        "id": "cGLr8TnJbJTT",
        "outputId": "1d4b6ce3-d9bf-40a8-d5ed-78bde856c547"
      },
      "execution_count": null,
      "outputs": [
        {
          "output_type": "stream",
          "name": "stdout",
          "text": [
            "True\n"
          ]
        }
      ]
    },
    {
      "cell_type": "markdown",
      "source": [
        "Definire una funzione per creare una nuova collezione di utenti attivi dato un dizionario del seguente tipo\n",
        "\n",
        "```\n",
        "users = {'Hans': 'active', 'Éléonore': 'inactive', 'Mario': 'active'}\n",
        "```\n",
        "\n"
      ],
      "metadata": {
        "id": "1Hk8pbGn10Zc"
      }
    },
    {
      "cell_type": "code",
      "source": [
        "users = {'Hans': 'active', 'Éléonore': 'inactive', 'Mario': 'active'}\n",
        "\n",
        "def active_users(diz):\n",
        "  active = {}\n",
        "  for user, status in diz.items():\n",
        "      if status == 'active':\n",
        "          active[user] = status\n",
        "  return active\n",
        "\n",
        "print(active_users(users))"
      ],
      "metadata": {
        "colab": {
          "base_uri": "https://localhost:8080/"
        },
        "id": "B-sfyncY2BjQ",
        "outputId": "af8eb1d2-9d00-4a4b-9e88-c91a40781c3d"
      },
      "execution_count": null,
      "outputs": [
        {
          "output_type": "stream",
          "name": "stdout",
          "text": [
            "{'Hans': 'active', 'Mario': 'active'}\n"
          ]
        }
      ]
    },
    {
      "cell_type": "markdown",
      "source": [
        "##**La serie di Fibonacci**\n",
        "Scrivi il codice Python per calcolare in modo automatico i primi 10 numeri della serie di Fibonacci: 0 1 1 2 3 5 8.\\\n",
        "I numeri di questa serie si ottengono nel seguente modo:\n",
        "\n",
        "\n",
        "1.   I primi due numeri sono 0 e 1\n",
        "2.   I numeri successivi al secondo si ottengono sommando i due numeri che li precedono immediatamente nella serie stessa:\\\n",
        "    0 + **1 = 1**,\\\n",
        "    1 + **1 = 2**,\\\n",
        "    1 + **2 = 3**,\\\n",
        "    2 + 3 = 5 e così via"
      ],
      "metadata": {
        "id": "ov7YBfhdGK5_"
      }
    },
    {
      "cell_type": "code",
      "source": [
        "a, b = 0, 1\n",
        "while a < 10:\n",
        "    print(a)\n",
        "    a, b = b, a+b"
      ],
      "metadata": {
        "colab": {
          "base_uri": "https://localhost:8080/"
        },
        "id": "y22c7qycyt2B",
        "outputId": "99911108-ad01-4bc2-fda5-bb7bf0e18687"
      },
      "execution_count": null,
      "outputs": [
        {
          "output_type": "stream",
          "name": "stdout",
          "text": [
            "0\n",
            "1\n",
            "1\n",
            "2\n",
            "3\n",
            "5\n",
            "8\n"
          ]
        }
      ]
    },
    {
      "cell_type": "markdown",
      "source": [
        "## **Paradosso del compleanno**"
      ],
      "metadata": {
        "id": "av0YJIgUJWXl"
      }
    },
    {
      "cell_type": "markdown",
      "source": [
        "Calcola la probabilità che, su un gruppo di n = 30 persone, almeno 2 compiano gli anni lo stesso giorno.\\\n",
        "Per fare questo calcolo prima bisogna conoscere la probabilità che *nessuna delle n persone compia gli anni nella stessa data*. Poi bisogna negare questa probabilità, così da ottenere la probabilità che *esista almeno una coppia di persone nate lo stesso giorno dell'anno*.\\\n",
        "La formula è:\n",
        "\n",
        "```\n",
        "P_nessuno_n = (365 - 1) * (365 - 2) * (365 - 3) * ... * (365 - (n - 1))\n",
        "              ---------   ---------   ---------         ---------------\n",
        "                365        365          365                  365\n",
        "\n",
        "P_qualcuno_n = 1 - P_nessuno_n\n",
        "\n",
        "```\n",
        "\n"
      ],
      "metadata": {
        "id": "rtkBXRBbJg4u"
      }
    },
    {
      "cell_type": "code",
      "source": [
        "probabilità_nessuno_30 = 1\n",
        "for x in range(1,30):\n",
        "  probabilità_nessuno_30 = probabilità_nessuno_30 * ((365 - x)/365)\n",
        "\n",
        "print(x)\n",
        "\n",
        "probabilità_qualcuno_30 = 1 - probabilità_nessuno_30\n",
        "print(probabilità_qualcuno_30)"
      ],
      "metadata": {
        "colab": {
          "base_uri": "https://localhost:8080/"
        },
        "id": "OmbHMsvNJd__",
        "outputId": "242529ed-786b-4462-b541-7c9297c7d5be"
      },
      "execution_count": null,
      "outputs": [
        {
          "output_type": "stream",
          "name": "stdout",
          "text": [
            "29\n",
            "0.7063162427192688\n"
          ]
        }
      ]
    },
    {
      "cell_type": "markdown",
      "source": [
        "#**Python per la statistica**: introduzione"
      ],
      "metadata": {
        "id": "m4x-GAXWX5ns"
      }
    },
    {
      "cell_type": "markdown",
      "source": [
        "L'introduzione di Colab al *Data Science con Colab*: (forse un po' troppo avanzato ancora ...)"
      ],
      "metadata": {
        "id": "F8uyCuFmD2qr"
      }
    },
    {
      "cell_type": "code",
      "source": [
        "import numpy as np\n",
        "from matplotlib import pyplot as plt\n",
        "\n",
        "ys = 200 + np.random.randn(100)\n",
        "x = [x for x in range(len(ys))]\n",
        "\n",
        "plt.plot(x, ys, '-')\n",
        "plt.fill_between(x, ys, 195, where=(ys > 195), facecolor='g', alpha=0.6)\n",
        "\n",
        "plt.title(\"Sample Visualization\")\n",
        "plt.show()"
      ],
      "metadata": {
        "id": "TeMLoznuEBgT",
        "colab": {
          "base_uri": "https://localhost:8080/",
          "height": 452
        },
        "outputId": "5680010b-166c-4e83-975c-5f152abe3b6e"
      },
      "execution_count": null,
      "outputs": [
        {
          "output_type": "display_data",
          "data": {
            "text/plain": [
              "<Figure size 640x480 with 1 Axes>"
            ],
            "image/png": "[encoded data removed]"
          },
          "metadata": {}
        }
      ]
    },
    {
      "cell_type": "markdown",
      "source": [
        "Ripartiamo da zero: Python prevede un modulo per la statistica, la cui documentazione può essere consultata al link https://docs.python.org/3/library/statistics.html ma, in genere, si usano package molto più completi e specifici, come NumPy, Scipy, Pandas e Matplotlib."
      ],
      "metadata": {
        "id": "sLaEzG6pEfbd"
      }
    },
    {
      "cell_type": "markdown",
      "source": [
        "##**Combinatoria**\n",
        "Itertools è una libreria built-in di Python contenente funzioni che creano iteratori per cicli efficienti. In realtà essa ci permette anche di generare in modo efficiente esempi di combinazioni, permutazioni e disposizioni di elementi contenuti in una lista.\\\n",
        "Per ulteriori approfondimenti: https://docs.python.org/3/library/itertools.html"
      ],
      "metadata": {
        "id": "FKKVY6yX3c6B"
      }
    },
    {
      "cell_type": "code",
      "source": [
        "import itertools"
      ],
      "metadata": {
        "id": "sit8VHIhRGme"
      },
      "execution_count": null,
      "outputs": []
    },
    {
      "cell_type": "code",
      "source": [
        "list(itertools.permutations([1, 2, 3]))"
      ],
      "metadata": {
        "colab": {
          "base_uri": "https://localhost:8080/"
        },
        "id": "CgHHFDrURWdz",
        "outputId": "bc8fcbfd-55f8-4420-c279-0b81a37549c0"
      },
      "execution_count": null,
      "outputs": [
        {
          "output_type": "execute_result",
          "data": {
            "text/plain": [
              "[(1, 2, 3), (1, 3, 2), (2, 1, 3), (2, 3, 1), (3, 1, 2), (3, 2, 1)]"
            ]
          },
          "metadata": {},
          "execution_count": 110
        }
      ]
    },
    {
      "cell_type": "code",
      "source": [
        "set(itertools.permutations([1, 1, 3]))    # uso set() per le permutazioni con ripetizione"
      ],
      "metadata": {
        "colab": {
          "base_uri": "https://localhost:8080/"
        },
        "id": "x6xJzBEERe6h",
        "outputId": "8b9776ed-d907-4a3b-d6b7-e035dbb7a99d"
      },
      "execution_count": null,
      "outputs": [
        {
          "output_type": "execute_result",
          "data": {
            "text/plain": [
              "{(1, 1, 3), (1, 3, 1), (3, 1, 1)}"
            ]
          },
          "metadata": {},
          "execution_count": 111
        }
      ]
    },
    {
      "cell_type": "code",
      "source": [
        "list(itertools.combinations([1, 2, 3, 4, 5], 3))    # combinazioni"
      ],
      "metadata": {
        "colab": {
          "base_uri": "https://localhost:8080/"
        },
        "id": "1iJJjJF3SB93",
        "outputId": "4cbd936d-27bd-4e4c-f71a-9ad622e9c4fd"
      },
      "execution_count": null,
      "outputs": [
        {
          "output_type": "execute_result",
          "data": {
            "text/plain": [
              "[(1, 2, 3),\n",
              " (1, 2, 4),\n",
              " (1, 2, 5),\n",
              " (1, 3, 4),\n",
              " (1, 3, 5),\n",
              " (1, 4, 5),\n",
              " (2, 3, 4),\n",
              " (2, 3, 5),\n",
              " (2, 4, 5),\n",
              " (3, 4, 5)]"
            ]
          },
          "metadata": {},
          "execution_count": 112
        }
      ]
    },
    {
      "cell_type": "code",
      "source": [
        "list(itertools.combinations_with_replacement([1, 2, 3], 2))   # combinazioni con ripetizione"
      ],
      "metadata": {
        "colab": {
          "base_uri": "https://localhost:8080/"
        },
        "id": "RnUrIY_MSy9v",
        "outputId": "73ff208d-2c27-490d-f591-ac912cd29275"
      },
      "execution_count": null,
      "outputs": [
        {
          "output_type": "execute_result",
          "data": {
            "text/plain": [
              "[(1, 1), (1, 2), (1, 3), (2, 2), (2, 3), (3, 3)]"
            ]
          },
          "metadata": {},
          "execution_count": 113
        }
      ]
    },
    {
      "cell_type": "markdown",
      "source": [
        "##**NumPy**: *random*\n",
        "\"Il package fondamentale per la computazione in ambito scientifico in Python\"\\\n",
        "Fornisce implementazioni efficienti dii funzioni utili a gestire vettori, matrici, algebra lineare, statistica di base etc."
      ],
      "metadata": {
        "id": "DGxn3pfM5cD4"
      }
    },
    {
      "cell_type": "code",
      "source": [
        "import numpy as np"
      ],
      "metadata": {
        "id": "E-ygSdVRCwUw"
      },
      "execution_count": null,
      "outputs": []
    },
    {
      "cell_type": "markdown",
      "source": [
        "Al di là delle enormi potenzialità della libreria NumPy, ci concentriamo sulla generazione di osservazioni casuali con *random*."
      ],
      "metadata": {
        "id": "QGF4cjwiDGpZ"
      }
    },
    {
      "cell_type": "markdown",
      "source": [
        "Innanzitutto, è bene sapere che un generatore di osservazioni pseudocasuali fornisce un flusso riproducibile se impostiamo il suo stato iniziale tramite un seed."
      ],
      "metadata": {
        "id": "G1PWYQbiGvpH"
      }
    },
    {
      "cell_type": "code",
      "source": [
        "np.random.default_rng(0)"
      ],
      "metadata": {
        "colab": {
          "base_uri": "https://localhost:8080/"
        },
        "id": "27hOnjExCzqS",
        "outputId": "8b57f403-0b3f-4a79-8cb3-b64ea88ff58e"
      },
      "execution_count": null,
      "outputs": [
        {
          "output_type": "execute_result",
          "data": {
            "text/plain": [
              "Generator(PCG64) at 0x7EC35CFAAEA0"
            ]
          },
          "metadata": {},
          "execution_count": 115
        }
      ]
    },
    {
      "cell_type": "markdown",
      "source": [
        "Ottenere un dataset di occorrenze randomiche:"
      ],
      "metadata": {
        "id": "KRglIE-7Hh5A"
      }
    },
    {
      "cell_type": "code",
      "source": [
        "dati1 = np.random.rand(2, 2)  # matrice 2x2 con valori in [0,1]\n",
        "\n",
        "dati2 = np.random.binomial(1, 0.5)   # distribuzione normale con media 0.5 e deviazione standard 0.5\n",
        "\n",
        "print(dati1)\n",
        "print(dati2)"
      ],
      "metadata": {
        "colab": {
          "base_uri": "https://localhost:8080/"
        },
        "id": "qtCC6owjHkbp",
        "outputId": "3392ea2c-daeb-45f7-9827-f820fc080ef2"
      },
      "execution_count": null,
      "outputs": [
        {
          "output_type": "stream",
          "name": "stdout",
          "text": [
            "[[0.62652778 0.55171254]\n",
            " [0.97090831 0.36615799]]\n",
            "0\n"
          ]
        }
      ]
    },
    {
      "cell_type": "markdown",
      "source": [
        "##**SciPy**: indicatori sintetici di base\n",
        "La libreria SciPy di Python è open source ed è pensata per la computazione in ambito scientifico. È costruita su NumPy, che è una libreria capace di generare esempi da modelli comunemente noti, ma essa può anche calcolare probabilità sugli eventi e fare calcoli direttamente sulla funzione di densità di probabilità."
      ],
      "metadata": {
        "id": "bF3rq9pc3Q7S"
      }
    },
    {
      "cell_type": "code",
      "source": [
        "from scipy import stats\n",
        "X = stats.binom(1, 0.5)   # bernoulliana equilibrata\n",
        "print(X.pmf(1))           # P(X = 1)\n",
        "print(X.cdf(0))           # P(X <= 0)\n",
        "print(X.mean())           # E(X)\n",
        "print(X.var())            # var(X)\n",
        "print(X.std())            # dev_std(X)\n",
        "print(X.rvs())            # stampa un'osservazione dalla distribuzione X\n",
        "print(X.rvs(10))          # stampa 10 osservazioni dalla distribuzione X\n",
        "# help(X)                 # stampa tutte le funzioni che posso chiamare sulla variabile X"
      ],
      "metadata": {
        "colab": {
          "base_uri": "https://localhost:8080/"
        },
        "id": "SpZSV9Kn5Kds",
        "outputId": "9f20447c-2b0e-4d5b-8901-e2b7c5eeb6f8"
      },
      "execution_count": null,
      "outputs": [
        {
          "output_type": "stream",
          "name": "stdout",
          "text": [
            "0.5\n",
            "0.5\n",
            "0.5\n",
            "0.25\n",
            "0.5\n",
            "1\n",
            "[0 0 0 0 0 0 0 0 1 1]\n"
          ]
        }
      ]
    },
    {
      "cell_type": "code",
      "source": [
        "X = stats.randint(1,7)    # dado equilibrato\n",
        "print(X.pmf(4))           # P(X = 4)\n",
        "print(X.cdf(3))           # P(X <= 3)\n",
        "print(X.mean())           # E(X)\n",
        "print(X.var())            # var(X)\n",
        "print(X.std())            # dev_std(X)\n",
        "print(X.rvs())            # stampa un'osservazione dalla distribuzione X\n",
        "print(X.rvs(10))          # stampa 10 osservazioni dalla distribuzione X"
      ],
      "metadata": {
        "colab": {
          "base_uri": "https://localhost:8080/"
        },
        "id": "wHunhJR48GCO",
        "outputId": "fec09aa8-2bc4-4a2c-a744-da82e0a91e1e"
      },
      "execution_count": null,
      "outputs": [
        {
          "output_type": "stream",
          "name": "stdout",
          "text": [
            "0.16666666666666666\n",
            "0.5\n",
            "3.5\n",
            "2.9166666666666665\n",
            "1.707825127659933\n",
            "5\n",
            "[4 1 2 1 5 3 4 2 1 2]\n"
          ]
        }
      ]
    }
  ]
}